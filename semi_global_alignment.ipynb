{
 "cells": [
  {
   "cell_type": "code",
   "execution_count": 1,
   "id": "67901229",
   "metadata": {},
   "outputs": [],
   "source": [
    "import os\n",
    "from Bio import SeqIO\n",
    "import matplotlib.pyplot as plt\n",
    "import pandas as pd\n",
    "import numpy as np\n",
    "from sklearn.decomposition import PCA\n",
    "from pandas import DataFrame\n",
    "from sklearn.cluster import KMeans\n",
    "import math"
   ]
  },
  {
   "cell_type": "code",
   "execution_count": 2,
   "id": "dc36e568",
   "metadata": {},
   "outputs": [
    {
     "name": "stdout",
     "output_type": "stream",
     "text": [
      "JELEN 5-6 =  -225.0 Number of alignments: 24192\n",
      "JELEN 6-7 =  -205.0 Number of alignments: 2523156480\n",
      "JELEN 5-7 =  -201.0 Number of alignments: 17557585920\n"
     ]
    }
   ],
   "source": [
    "notebook_path = os.path.abspath(\"genomeClustering.ipynb\")\n",
    "path = os.path.join(os.path.dirname(notebook_path), \"data/J29B_expected.fasta\")\n",
    "pathFASTQ= os.path.join(os.path.dirname(notebook_path), \"data/fastq/J29_B_CE_IonXpress_005.fastq\")\n",
    "\n",
    "expected = list(SeqIO.parse(path, \"fasta\"))\n",
    "    \n",
    "from Bio import Align\n",
    "aligner = Align.PairwiseAligner()\n",
    "aligner.mode = 'global'\n",
    "\n",
    "aligner.match_score = 2\n",
    "aligner.mismatch_score = -1\n",
    "aligner.open_gap_score = 0\n",
    "aligner.extend_gap_score = 0\n",
    "aligner.target_end_gap_score = 0\n",
    "aligner.query_end_gap_score = 0\n",
    "\n",
    "#print(aligner.query_end_gap_score)\n",
    "\n",
    "\n",
    "expAlign1 = aligner.align(expected[0].seq,expected[1].seq)\n",
    "print(\"JELEN 5-6 = \",249-expAlign1[0].score, \"Number of alignments: %d\" % len(expAlign1))\n",
    "expAlign2 = aligner.align(expected[1].seq,expected[2].seq)\n",
    "print(\"JELEN 6-7 = \",249-expAlign2[0].score, \"Number of alignments: %d\" % len(expAlign2))\n",
    "expAlign3 = aligner.align(expected[0].seq,expected[2].seq)\n",
    "print(\"JELEN 5-7 = \",249-expAlign3[0].score, \"Number of alignments: %d\" % len(expAlign3))\n",
    "\n",
    "data = list(SeqIO.parse(pathFASTQ, \"fastq\"))\n",
    "\n"
   ]
  },
  {
   "cell_type": "code",
   "execution_count": 3,
   "id": "a14b53fa",
   "metadata": {},
   "outputs": [
    {
     "name": "stdout",
     "output_type": "stream",
     "text": [
      "       0      1      2      3      4      5      6      7      8      9    \\\n",
      "0    498.0  492.0  494.0  470.0  468.0  494.0  492.0  466.0  470.0  470.0   \n",
      "1    492.0  498.0  494.0  472.0  470.0  496.0  492.0  468.0  472.0  472.0   \n",
      "2    494.0  494.0  498.0  472.0  470.0  496.0  494.0  468.0  472.0  472.0   \n",
      "3    470.0  472.0  472.0  498.0  496.0  474.0  470.0  494.0  498.0  498.0   \n",
      "4    468.0  470.0  470.0  496.0  498.0  472.0  468.0  494.0  496.0  496.0   \n",
      "..     ...    ...    ...    ...    ...    ...    ...    ...    ...    ...   \n",
      "836  470.0  472.0  472.0  498.0  496.0  474.0  470.0  494.0  498.0  498.0   \n",
      "837  470.0  470.0  474.0  496.0  494.0  472.0  470.0  492.0  496.0  496.0   \n",
      "838    0.0    0.0    0.0    0.0    0.0    0.0    0.0    0.0    0.0    0.0   \n",
      "839    0.0    0.0    0.0    0.0    0.0    0.0    0.0    0.0    0.0    0.0   \n",
      "840    0.0    0.0    0.0    0.0    0.0    0.0    0.0    0.0    0.0    0.0   \n",
      "\n",
      "     ...    828    829    830    831    832    833    834    835    836    837  \n",
      "0    ...  470.0  468.0  470.0  470.0  468.0  464.0  470.0  470.0  470.0  470.0  \n",
      "1    ...  472.0  470.0  472.0  472.0  470.0  466.0  472.0  472.0  472.0  470.0  \n",
      "2    ...  472.0  470.0  472.0  472.0  470.0  468.0  472.0  472.0  472.0  474.0  \n",
      "3    ...  498.0  496.0  498.0  486.0  496.0  492.0  498.0  498.0  498.0  496.0  \n",
      "4    ...  496.0  494.0  496.0  484.0  494.0  490.0  496.0  496.0  496.0  494.0  \n",
      "..   ...    ...    ...    ...    ...    ...    ...    ...    ...    ...    ...  \n",
      "836  ...  498.0  496.0  498.0  486.0  496.0  492.0  498.0  498.0  498.0  496.0  \n",
      "837  ...  496.0  494.0  496.0  484.0  494.0  492.0  496.0  496.0  496.0  498.0  \n",
      "838  ...    0.0    0.0    0.0    0.0    0.0    0.0    0.0    0.0    0.0    0.0  \n",
      "839  ...    0.0    0.0    0.0    0.0    0.0    0.0    0.0    0.0    0.0    0.0  \n",
      "840  ...    0.0    0.0    0.0    0.0    0.0    0.0    0.0    0.0    0.0    0.0  \n",
      "\n",
      "[841 rows x 838 columns]\n"
     ]
    }
   ],
   "source": [
    "sizedReadings = []\n",
    "\n",
    "for dataDistances in data:\n",
    "    if(len(dataDistances.seq)==296):\n",
    "        sizedReadings.append(dataDistances.seq[27:-20])\n",
    "df = DataFrame(np.zeros((len(sizedReadings)+3, len(sizedReadings))))\n",
    "\n",
    "for i in range(0, len(sizedReadings)):\n",
    "    for j in range(i, len(sizedReadings)):\n",
    "        distance = aligner.align(sizedReadings[i], sizedReadings[j]).score\n",
    "        df[i][j] = distance\n",
    "        df[j][i] = distance\n",
    "print(df)"
   ]
  },
  {
   "cell_type": "code",
   "execution_count": 4,
   "id": "d33e7e53",
   "metadata": {},
   "outputs": [
    {
     "name": "stdout",
     "output_type": "stream",
     "text": [
      "       0      1      2      3      4      5      6      7      8      9    \\\n",
      "0    498.0  492.0  494.0  470.0  468.0  494.0  492.0  466.0  470.0  470.0   \n",
      "1    492.0  498.0  494.0  472.0  470.0  496.0  492.0  468.0  472.0  472.0   \n",
      "2    494.0  494.0  498.0  472.0  470.0  496.0  494.0  468.0  472.0  472.0   \n",
      "3    470.0  472.0  472.0  498.0  496.0  474.0  470.0  494.0  498.0  498.0   \n",
      "4    468.0  470.0  470.0  496.0  498.0  472.0  468.0  494.0  496.0  496.0   \n",
      "..     ...    ...    ...    ...    ...    ...    ...    ...    ...    ...   \n",
      "836  470.0  472.0  472.0  498.0  496.0  474.0  470.0  494.0  498.0  498.0   \n",
      "837  470.0  470.0  474.0  496.0  494.0  472.0  470.0  492.0  496.0  496.0   \n",
      "838  470.0  472.0  472.0  498.0  496.0  474.0  470.0  494.0  498.0  498.0   \n",
      "839  494.0  496.0  496.0  474.0  472.0  498.0  494.0  470.0  474.0  474.0   \n",
      "840  452.0  452.0  452.0  450.0  448.0  454.0  450.0  446.0  450.0  450.0   \n",
      "\n",
      "     ...    828    829    830    831    832    833    834    835    836    837  \n",
      "0    ...  470.0  468.0  470.0  470.0  468.0  464.0  470.0  470.0  470.0  470.0  \n",
      "1    ...  472.0  470.0  472.0  472.0  470.0  466.0  472.0  472.0  472.0  470.0  \n",
      "2    ...  472.0  470.0  472.0  472.0  470.0  468.0  472.0  472.0  472.0  474.0  \n",
      "3    ...  498.0  496.0  498.0  486.0  496.0  492.0  498.0  498.0  498.0  496.0  \n",
      "4    ...  496.0  494.0  496.0  484.0  494.0  490.0  496.0  496.0  496.0  494.0  \n",
      "..   ...    ...    ...    ...    ...    ...    ...    ...    ...    ...    ...  \n",
      "836  ...  498.0  496.0  498.0  486.0  496.0  492.0  498.0  498.0  498.0  496.0  \n",
      "837  ...  496.0  494.0  496.0  484.0  494.0  492.0  496.0  496.0  496.0  498.0  \n",
      "838  ...  498.0  496.0  498.0  486.0  496.0  492.0  498.0  498.0  498.0  496.0  \n",
      "839  ...  474.0  472.0  474.0  474.0  472.0  468.0  474.0  474.0  474.0  472.0  \n",
      "840  ...  450.0  448.0  450.0  446.0  448.0  444.0  450.0  450.0  450.0  448.0  \n",
      "\n",
      "[841 rows x 838 columns]\n"
     ]
    }
   ],
   "source": [
    "for i in range(0, len(sizedReadings)):\n",
    "    df[i][len(sizedReadings)] = aligner.align(expected[0].seq, sizedReadings[i]).score\n",
    "    df[i][len(sizedReadings)+1] = aligner.align(expected[1].seq, sizedReadings[i]).score\n",
    "    df[i][len(sizedReadings)+2] = aligner.align(expected[2].seq, sizedReadings[i]).score\n",
    "\n",
    "print(df)\n",
    "    \n",
    "pca = PCA(n_components=2)\n",
    "principalComponents = pca.fit_transform(df)\n",
    "principalDf = pd.DataFrame(data = principalComponents\n",
    "             , columns = ['PC1', 'PC2'])\n"
   ]
  },
  {
   "cell_type": "code",
   "execution_count": 5,
   "id": "faa96e29",
   "metadata": {},
   "outputs": [
    {
     "data": {
      "image/png": "[encoded data removed]",
      "text/plain": [
       "<Figure size 432x288 with 1 Axes>"
      ]
     },
     "metadata": {
      "needs_background": "light"
     },
     "output_type": "display_data"
    }
   ],
   "source": [
    "K = range(1,20)\n",
    "Sum_of_squared_distance = []\n",
    "for num_clusters in K :\n",
    " kmeans = KMeans(n_clusters=num_clusters)\n",
    " kmeans.fit(principalDf)\n",
    " Sum_of_squared_distance.append(kmeans.inertia_)\n",
    "plt.plot(K,Sum_of_squared_distance,'bx-')\n",
    "plt.xlabel('Values of K') \n",
    "plt.ylabel('Sum of squared distances/Inertia') \n",
    "plt.title('Elbow Method For Optimal k')\n",
    "plt.show()"
   ]
  },
  {
   "cell_type": "code",
   "execution_count": 6,
   "id": "c8241be7",
   "metadata": {},
   "outputs": [
    {
     "name": "stdout",
     "output_type": "stream",
     "text": [
      "             PC1         PC2\n",
      "838   -71.233940   -1.865907\n",
      "839   601.801522 -118.067590\n",
      "840  1266.696066  174.737952\n",
      "-71.23394049501155 -1.8659066263528368\n",
      "601.8015215603573 -118.06758981737457\n",
      "1266.6960659210529 174.73795242863417\n"
     ]
    },
    {
     "data": {
      "image/png": "[encoded data removed]",
      "text/plain": [
       "<Figure size 432x288 with 1 Axes>"
      ]
     },
     "metadata": {
      "needs_background": "light"
     },
     "output_type": "display_data"
    }
   ],
   "source": [
    "#Initialize the class object\n",
    "kmeans = KMeans(n_clusters= 3)\n",
    " \n",
    "#predict the labels of clusters.\n",
    "label = kmeans.fit_predict(principalDf)\n",
    "#print(label)\n",
    "\n",
    "#Getting unique labels\n",
    " \n",
    "u_labels = np.unique(label)\n",
    " \n",
    "#plotting the results:\n",
    " \n",
    "for i in u_labels:\n",
    "    plt.scatter(principalComponents[label == i , 0] , principalComponents[label == i , 1] , label = i)\n",
    "\n",
    "\n",
    "df2 = pd.DataFrame(data=principalDf.tail(3))\n",
    "print(df2)\n",
    "for i in range(0,len(df2)):\n",
    "    print(df2.iloc[i]['PC1'], df2.iloc[i]['PC2'])\n",
    "    plt.scatter(df2.iloc[i]['PC1'], df2.iloc[i]['PC2'], color='red')\n",
    "\n",
    "    \n",
    "centers = kmeans.cluster_centers_\n",
    "plt.scatter(centers[:, 0], centers[:, 1], c='black', s=200, alpha=0.5);\n",
    "\n",
    "plt.legend()\n",
    "plt.show()"
   ]
  },
  {
   "cell_type": "code",
   "execution_count": 7,
   "id": "044bc14c",
   "metadata": {},
   "outputs": [
    {
     "name": "stdout",
     "output_type": "stream",
     "text": [
      "Točnost modela je:  0.9620430419593089\n"
     ]
    }
   ],
   "source": [
    "dataframe_min = principalDf.min()\n",
    "dataframe_max = principalDf.max()\n",
    "\n",
    "data_dis_X = math.dist([dataframe_min['PC1']], [dataframe_max['PC1']])\n",
    "data_dis_Y = math.dist([dataframe_min['PC2']], [dataframe_max['PC2']])\n",
    "\n",
    "dis_sum = 0\n",
    "for i in range(0, 3):\n",
    "    for j in range(0, 3):\n",
    "        if(label[len(principalDf)-1-j] == i):\n",
    "            dis_X = math.dist([principalDf.iloc[len(principalDf)-1-j]['PC1']], [kmeans.cluster_centers_[i][0]])\n",
    "            dis_Y = math.dist([principalDf.iloc[len(principalDf)-1-j]['PC2']], [kmeans.cluster_centers_[i][1]])\n",
    "            dis_sum += (dis_X/data_dis_X + dis_Y/data_dis_Y)/6\n",
    "\n",
    "print('Točnost modela je: ', 1-dis_sum)"
   ]
  },
  {
   "cell_type": "markdown",
   "id": "652c249a",
   "metadata": {},
   "source": [
    "## Izračunavanje za J30 "
   ]
  },
  {
   "cell_type": "code",
   "execution_count": 8,
   "id": "396d1a5e",
   "metadata": {},
   "outputs": [
    {
     "name": "stdout",
     "output_type": "stream",
     "text": [
      "JELEN 5-6 =  -201.0 Number of alignments: 118516608000\n",
      "JELEN 6-7 =  -191.0 Number of alignments: 6280569446400\n",
      "JELEN 5-7 =  -209.0 Number of alignments: 3207859200\n"
     ]
    }
   ],
   "source": [
    "notebook_path = os.path.abspath(\"genomeClustering.ipynb\")\n",
    "path = os.path.join(os.path.dirname(notebook_path), \"data/J30B_expected.fasta\")\n",
    "pathFASTQ= os.path.join(os.path.dirname(notebook_path), \"data/fastq/J30_B_CE_IonXpress_006.fastq\")\n",
    "\n",
    "expected = list(SeqIO.parse(path, \"fasta\"))\n",
    "\n",
    "expAlign1 = aligner.align(expected[0].seq,expected[1].seq)\n",
    "print(\"JELEN 5-6 = \",249-expAlign1[0].score, \"Number of alignments: %d\" % len(expAlign1))\n",
    "expAlign2 = aligner.align(expected[1].seq,expected[2].seq)\n",
    "print(\"JELEN 6-7 = \",249-expAlign2[0].score, \"Number of alignments: %d\" % len(expAlign2))\n",
    "expAlign3 = aligner.align(expected[0].seq,expected[2].seq)\n",
    "print(\"JELEN 5-7 = \",249-expAlign3[0].score, \"Number of alignments: %d\" % len(expAlign3))\n",
    "\n",
    "data = list(SeqIO.parse(pathFASTQ, \"fastq\"))\n",
    "\n"
   ]
  },
  {
   "cell_type": "code",
   "execution_count": 9,
   "id": "d1e9b1c7",
   "metadata": {},
   "outputs": [
    {
     "name": "stdout",
     "output_type": "stream",
     "text": [
      "       0      1      2      3      4      5      6      7      8      9     \\\n",
      "0     498.0  494.0  448.0  448.0  474.0  446.0  448.0  496.0  492.0  446.0   \n",
      "1     494.0  496.0  448.0  448.0  474.0  446.0  448.0  496.0  490.0  446.0   \n",
      "2     448.0  448.0  496.0  490.0  464.0  430.0  496.0  450.0  446.0  492.0   \n",
      "3     448.0  448.0  490.0  496.0  464.0  430.0  492.0  450.0  446.0  492.0   \n",
      "4     474.0  474.0  464.0  464.0  498.0  432.0  464.0  476.0  470.0  462.0   \n",
      "...     ...    ...    ...    ...    ...    ...    ...    ...    ...    ...   \n",
      "1285  448.0  448.0  496.0  492.0  464.0  432.0  498.0  450.0  446.0  494.0   \n",
      "1286  448.0  448.0  494.0  494.0  464.0  432.0  496.0  450.0  446.0  496.0   \n",
      "1287    0.0    0.0    0.0    0.0    0.0    0.0    0.0    0.0    0.0    0.0   \n",
      "1288    0.0    0.0    0.0    0.0    0.0    0.0    0.0    0.0    0.0    0.0   \n",
      "1289    0.0    0.0    0.0    0.0    0.0    0.0    0.0    0.0    0.0    0.0   \n",
      "\n",
      "      ...   1277   1278   1279   1280   1281   1282   1283   1284   1285  \\\n",
      "0     ...  494.0  448.0  440.0  448.0  496.0  448.0  496.0  448.0  448.0   \n",
      "1     ...  494.0  448.0  438.0  448.0  496.0  448.0  496.0  448.0  448.0   \n",
      "2     ...  448.0  494.0  486.0  494.0  450.0  496.0  450.0  496.0  496.0   \n",
      "3     ...  448.0  492.0  482.0  494.0  450.0  492.0  450.0  492.0  492.0   \n",
      "4     ...  474.0  464.0  454.0  464.0  476.0  464.0  476.0  464.0  464.0   \n",
      "...   ...    ...    ...    ...    ...    ...    ...    ...    ...    ...   \n",
      "1285  ...  448.0  496.0  488.0  496.0  450.0  498.0  450.0  498.0  498.0   \n",
      "1286  ...  448.0  496.0  486.0  498.0  450.0  496.0  450.0  496.0  496.0   \n",
      "1287  ...    0.0    0.0    0.0    0.0    0.0    0.0    0.0    0.0    0.0   \n",
      "1288  ...    0.0    0.0    0.0    0.0    0.0    0.0    0.0    0.0    0.0   \n",
      "1289  ...    0.0    0.0    0.0    0.0    0.0    0.0    0.0    0.0    0.0   \n",
      "\n",
      "       1286  \n",
      "0     448.0  \n",
      "1     448.0  \n",
      "2     494.0  \n",
      "3     494.0  \n",
      "4     464.0  \n",
      "...     ...  \n",
      "1285  496.0  \n",
      "1286  498.0  \n",
      "1287    0.0  \n",
      "1288    0.0  \n",
      "1289    0.0  \n",
      "\n",
      "[1290 rows x 1287 columns]\n"
     ]
    }
   ],
   "source": [
    "sizedReadings = []\n",
    "\n",
    "for dataDistances in data:\n",
    "    if(len(dataDistances.seq)<=296 and len(dataDistances.seq)>290):\n",
    "        sizedReadings.append(dataDistances.seq[27:-20])\n",
    "df = DataFrame(np.zeros((len(sizedReadings)+3, len(sizedReadings))))\n",
    "\n",
    "for i in range(0, len(sizedReadings)):\n",
    "    for j in range(i, len(sizedReadings)):\n",
    "        distance = aligner.align(sizedReadings[i], sizedReadings[j]).score\n",
    "        df[i][j] = distance\n",
    "        df[j][i] = distance\n",
    "print(df)"
   ]
  },
  {
   "cell_type": "code",
   "execution_count": 10,
   "id": "02b2e5e5",
   "metadata": {},
   "outputs": [
    {
     "name": "stdout",
     "output_type": "stream",
     "text": [
      "       0      1      2      3      4      5      6      7      8      9     \\\n",
      "0     498.0  494.0  448.0  448.0  474.0  446.0  448.0  496.0  492.0  446.0   \n",
      "1     494.0  496.0  448.0  448.0  474.0  446.0  448.0  496.0  490.0  446.0   \n",
      "2     448.0  448.0  496.0  490.0  464.0  430.0  496.0  450.0  446.0  492.0   \n",
      "3     448.0  448.0  490.0  496.0  464.0  430.0  492.0  450.0  446.0  492.0   \n",
      "4     474.0  474.0  464.0  464.0  498.0  432.0  464.0  476.0  470.0  462.0   \n",
      "...     ...    ...    ...    ...    ...    ...    ...    ...    ...    ...   \n",
      "1285  448.0  448.0  496.0  492.0  464.0  432.0  498.0  450.0  446.0  494.0   \n",
      "1286  448.0  448.0  494.0  494.0  464.0  432.0  496.0  450.0  446.0  496.0   \n",
      "1287  496.0  496.0  450.0  450.0  476.0  448.0  450.0  498.0  492.0  448.0   \n",
      "1288  448.0  448.0  496.0  492.0  464.0  432.0  498.0  450.0  446.0  494.0   \n",
      "1289  456.0  456.0  438.0  438.0  442.0  484.0  440.0  458.0  452.0  438.0   \n",
      "\n",
      "      ...   1277   1278   1279   1280   1281   1282   1283   1284   1285  \\\n",
      "0     ...  494.0  448.0  440.0  448.0  496.0  448.0  496.0  448.0  448.0   \n",
      "1     ...  494.0  448.0  438.0  448.0  496.0  448.0  496.0  448.0  448.0   \n",
      "2     ...  448.0  494.0  486.0  494.0  450.0  496.0  450.0  496.0  496.0   \n",
      "3     ...  448.0  492.0  482.0  494.0  450.0  492.0  450.0  492.0  492.0   \n",
      "4     ...  474.0  464.0  454.0  464.0  476.0  464.0  476.0  464.0  464.0   \n",
      "...   ...    ...    ...    ...    ...    ...    ...    ...    ...    ...   \n",
      "1285  ...  448.0  496.0  488.0  496.0  450.0  498.0  450.0  498.0  498.0   \n",
      "1286  ...  448.0  496.0  486.0  498.0  450.0  496.0  450.0  496.0  496.0   \n",
      "1287  ...  496.0  450.0  440.0  450.0  498.0  450.0  498.0  450.0  450.0   \n",
      "1288  ...  448.0  496.0  488.0  496.0  450.0  498.0  450.0  498.0  498.0   \n",
      "1289  ...  456.0  440.0  432.0  440.0  458.0  440.0  458.0  440.0  440.0   \n",
      "\n",
      "       1286  \n",
      "0     448.0  \n",
      "1     448.0  \n",
      "2     494.0  \n",
      "3     494.0  \n",
      "4     464.0  \n",
      "...     ...  \n",
      "1285  496.0  \n",
      "1286  498.0  \n",
      "1287  450.0  \n",
      "1288  496.0  \n",
      "1289  440.0  \n",
      "\n",
      "[1290 rows x 1287 columns]\n"
     ]
    }
   ],
   "source": [
    "for i in range(0, len(sizedReadings)):\n",
    "    df[i][len(sizedReadings)] = aligner.align(expected[0].seq, sizedReadings[i]).score\n",
    "    df[i][len(sizedReadings)+1] = aligner.align(expected[1].seq, sizedReadings[i]).score\n",
    "    df[i][len(sizedReadings)+2] = aligner.align(expected[2].seq, sizedReadings[i]).score\n",
    "\n",
    "print(df)\n",
    "    \n",
    "pca = PCA(n_components=2)\n",
    "principalComponents = pca.fit_transform(df)\n",
    "principalDf = pd.DataFrame(data = principalComponents\n",
    "             , columns = ['PC1', 'PC2'])\n"
   ]
  },
  {
   "cell_type": "code",
   "execution_count": 11,
   "id": "c6a9c0b5",
   "metadata": {},
   "outputs": [
    {
     "data": {
      "image/png": "[encoded data removed]",
      "text/plain": [
       "<Figure size 432x288 with 1 Axes>"
      ]
     },
     "metadata": {
      "needs_background": "light"
     },
     "output_type": "display_data"
    }
   ],
   "source": [
    "K = range(1,20)\n",
    "Sum_of_squared_distance = []\n",
    "for num_clusters in K :\n",
    " kmeans = KMeans(n_clusters=num_clusters)\n",
    " kmeans.fit(principalDf)\n",
    " Sum_of_squared_distance.append(kmeans.inertia_)\n",
    "plt.plot(K,Sum_of_squared_distance,'bx-')\n",
    "plt.xlabel('Values of K') \n",
    "plt.ylabel('Sum of squared distances/Inertia') \n",
    "plt.title('Elbow Method For Optimal k')\n",
    "plt.show()"
   ]
  },
  {
   "cell_type": "code",
   "execution_count": 14,
   "id": "2c66454e",
   "metadata": {},
   "outputs": [
    {
     "name": "stdout",
     "output_type": "stream",
     "text": [
      "             PC1         PC2\n",
      "1287 -741.257647  -47.203039\n",
      "1288  936.695069  -47.423232\n",
      "1289  -96.699922  831.502313\n",
      "-741.2576467024048 -47.20303882712757\n",
      "936.6950687723523 -47.42323227847474\n",
      "-96.69992207246025 831.5023125555342\n"
     ]
    },
    {
     "data": {
      "image/png": "[encoded data removed]",
      "text/plain": [
       "<Figure size 432x288 with 1 Axes>"
      ]
     },
     "metadata": {
      "needs_background": "light"
     },
     "output_type": "display_data"
    }
   ],
   "source": [
    "#Initialize the class object\n",
    "kmeans = KMeans(n_clusters= 3)\n",
    " \n",
    "#predict the labels of clusters.\n",
    "label = kmeans.fit_predict(principalDf)\n",
    "#print(label)\n",
    "\n",
    "#Getting unique labels\n",
    " \n",
    "u_labels = np.unique(label)\n",
    " \n",
    "#plotting the results:\n",
    " \n",
    "for i in u_labels:\n",
    "    plt.scatter(principalComponents[label == i , 0] , principalComponents[label == i , 1] , label = i)\n",
    "\n",
    "\n",
    "df2 = pd.DataFrame(data=principalDf.tail(3))\n",
    "print(df2)\n",
    "for i in range(0,len(df2)):\n",
    "    print(df2.iloc[i]['PC1'], df2.iloc[i]['PC2'])\n",
    "    plt.scatter(df2.iloc[i]['PC1'], df2.iloc[i]['PC2'], color='red')\n",
    "\n",
    "    \n",
    "centers = kmeans.cluster_centers_\n",
    "plt.scatter(centers[:, 0], centers[:, 1], c='black', s=200, alpha=0.5);\n",
    "\n",
    "plt.legend()\n",
    "plt.show()"
   ]
  },
  {
   "cell_type": "code",
   "execution_count": 15,
   "id": "de38d587",
   "metadata": {},
   "outputs": [
    {
     "name": "stdout",
     "output_type": "stream",
     "text": [
      "Točnost modela je:  0.9680261842867234\n"
     ]
    }
   ],
   "source": [
    "dataframe_min = principalDf.min()\n",
    "dataframe_max = principalDf.max()\n",
    "\n",
    "data_dis_X = math.dist([dataframe_min['PC1']], [dataframe_max['PC1']])\n",
    "data_dis_Y = math.dist([dataframe_min['PC2']], [dataframe_max['PC2']])\n",
    "\n",
    "dis_sum = 0\n",
    "for i in range(0, 3):\n",
    "    for j in range(0, 3):\n",
    "        if(label[len(principalDf)-1-j] == i):\n",
    "            dis_X = math.dist([principalDf.iloc[len(principalDf)-1-j]['PC1']], [kmeans.cluster_centers_[i][0]])\n",
    "            dis_Y = math.dist([principalDf.iloc[len(principalDf)-1-j]['PC2']], [kmeans.cluster_centers_[i][1]])\n",
    "            dis_sum += (dis_X/data_dis_X + dis_Y/data_dis_Y)/6\n",
    "\n",
    "print('Točnost modela je: ', 1-dis_sum)"
   ]
  }
 ],
 "metadata": {
  "kernelspec": {
   "display_name": "Python 3",
   "language": "python",
   "name": "python3"
  },
  "language_info": {
   "codemirror_mode": {
    "name": "ipython",
    "version": 3
   },
   "file_extension": ".py",
   "mimetype": "text/x-python",
   "name": "python",
   "nbconvert_exporter": "python",
   "pygments_lexer": "ipython3",
   "version": "3.8.8"
  }
 },
 "nbformat": 4,
 "nbformat_minor": 5
}
