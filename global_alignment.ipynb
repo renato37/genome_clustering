{
 "cells": [
  {
   "cell_type": "code",
   "execution_count": 1,
   "id": "67901229",
   "metadata": {},
   "outputs": [],
   "source": [
    "import os\n",
    "from Bio import SeqIO\n",
    "import matplotlib.pyplot as plt\n",
    "import pandas as pd\n",
    "import numpy as np\n",
    "from sklearn.decomposition import PCA\n",
    "from pandas import DataFrame\n",
    "from sklearn.cluster import KMeans"
   ]
  },
  {
   "cell_type": "code",
   "execution_count": 2,
   "id": "dc36e568",
   "metadata": {},
   "outputs": [
    {
     "name": "stdout",
     "output_type": "stream",
     "text": [
      "JELEN 5-6 =  12.0 Number of alignments: 359424\n",
      "JELEN 6-7 =  22.0 Number of alignments: 564013891584\n",
      "JELEN 5-7 =  24.0 Number of alignments: 3530674667520\n"
     ]
    }
   ],
   "source": [
    "notebook_path = os.path.abspath(\"genomeClustering.ipynb\")\n",
    "path = os.path.join(os.path.dirname(notebook_path), \"data/J29B_expected.fasta\")\n",
    "pathFASTQ= os.path.join(os.path.dirname(notebook_path), \"data/fastq/J29_B_CE_IonXpress_005.fastq\")\n",
    "\n",
    "expected = list(SeqIO.parse(path, \"fasta\"))\n",
    "    \n",
    "from Bio import Align\n",
    "aligner = Align.PairwiseAligner()\n",
    "aligner.mode = 'global'\n",
    "\n",
    "aligner.match_score = 1\n",
    "aligner.mismatch_score = 0\n",
    "aligner.open_gap_score = 0\n",
    "aligner.extend_gap_score = 0\n",
    "aligner.target_end_gap_score = 0\n",
    "aligner.query_end_gap_score = 0\n",
    "\n",
    "#print(aligner.query_end_gap_score)\n",
    "\n",
    "\n",
    "expAlign1 = aligner.align(expected[0].seq,expected[1].seq)\n",
    "print(\"JELEN 5-6 = \",249-expAlign1[0].score, \"Number of alignments: %d\" % len(expAlign1))\n",
    "expAlign2 = aligner.align(expected[1].seq,expected[2].seq)\n",
    "print(\"JELEN 6-7 = \",249-expAlign2[0].score, \"Number of alignments: %d\" % len(expAlign2))\n",
    "expAlign3 = aligner.align(expected[0].seq,expected[2].seq)\n",
    "print(\"JELEN 5-7 = \",249-expAlign3[0].score, \"Number of alignments: %d\" % len(expAlign3))\n",
    "\n",
    "data = list(SeqIO.parse(pathFASTQ, \"fastq\"))\n",
    "\n"
   ]
  },
  {
   "cell_type": "code",
   "execution_count": 3,
   "id": "a14b53fa",
   "metadata": {},
   "outputs": [
    {
     "name": "stdout",
     "output_type": "stream",
     "text": [
      "       0      1      2      3      4      5      6      7      8      9    \\\n",
      "0    249.0  246.0  247.0  235.0  234.0  247.0  246.0  233.0  235.0  235.0   \n",
      "1    246.0  249.0  247.0  236.0  235.0  248.0  246.0  234.0  236.0  236.0   \n",
      "2    247.0  247.0  249.0  236.0  235.0  248.0  247.0  234.0  236.0  236.0   \n",
      "3    235.0  236.0  236.0  249.0  248.0  237.0  235.0  247.0  249.0  249.0   \n",
      "4    234.0  235.0  235.0  248.0  249.0  236.0  234.0  247.0  248.0  248.0   \n",
      "..     ...    ...    ...    ...    ...    ...    ...    ...    ...    ...   \n",
      "836  235.0  236.0  236.0  249.0  248.0  237.0  235.0  247.0  249.0  249.0   \n",
      "837  235.0  235.0  237.0  248.0  247.0  236.0  235.0  246.0  248.0  248.0   \n",
      "838    0.0    0.0    0.0    0.0    0.0    0.0    0.0    0.0    0.0    0.0   \n",
      "839    0.0    0.0    0.0    0.0    0.0    0.0    0.0    0.0    0.0    0.0   \n",
      "840    0.0    0.0    0.0    0.0    0.0    0.0    0.0    0.0    0.0    0.0   \n",
      "\n",
      "     ...    828    829    830    831    832    833    834    835    836    837  \n",
      "0    ...  235.0  234.0  235.0  235.0  234.0  232.0  235.0  235.0  235.0  235.0  \n",
      "1    ...  236.0  235.0  236.0  236.0  235.0  233.0  236.0  236.0  236.0  235.0  \n",
      "2    ...  236.0  235.0  236.0  236.0  235.0  234.0  236.0  236.0  236.0  237.0  \n",
      "3    ...  249.0  248.0  249.0  243.0  248.0  246.0  249.0  249.0  249.0  248.0  \n",
      "4    ...  248.0  247.0  248.0  242.0  247.0  245.0  248.0  248.0  248.0  247.0  \n",
      "..   ...    ...    ...    ...    ...    ...    ...    ...    ...    ...    ...  \n",
      "836  ...  249.0  248.0  249.0  243.0  248.0  246.0  249.0  249.0  249.0  248.0  \n",
      "837  ...  248.0  247.0  248.0  242.0  247.0  246.0  248.0  248.0  248.0  249.0  \n",
      "838  ...    0.0    0.0    0.0    0.0    0.0    0.0    0.0    0.0    0.0    0.0  \n",
      "839  ...    0.0    0.0    0.0    0.0    0.0    0.0    0.0    0.0    0.0    0.0  \n",
      "840  ...    0.0    0.0    0.0    0.0    0.0    0.0    0.0    0.0    0.0    0.0  \n",
      "\n",
      "[841 rows x 838 columns]\n"
     ]
    }
   ],
   "source": [
    "sizedReadings = []\n",
    "\n",
    "for dataDistances in data:\n",
    "    if(len(dataDistances.seq)==296):\n",
    "        sizedReadings.append(dataDistances.seq[27:-20])\n",
    "df = DataFrame(np.zeros((len(sizedReadings)+3, len(sizedReadings))))\n",
    "\n",
    "for i in range(0, len(sizedReadings)):\n",
    "    for j in range(i, len(sizedReadings)):\n",
    "        distance = aligner.align(sizedReadings[i], sizedReadings[j]).score\n",
    "        df[i][j] = distance\n",
    "        df[j][i] = distance\n",
    "print(df)"
   ]
  },
  {
   "cell_type": "code",
   "execution_count": 4,
   "id": "d33e7e53",
   "metadata": {},
   "outputs": [
    {
     "name": "stdout",
     "output_type": "stream",
     "text": [
      "       0      1      2      3      4      5      6      7      8      9    \\\n",
      "0    249.0  246.0  247.0  235.0  234.0  247.0  246.0  233.0  235.0  235.0   \n",
      "1    246.0  249.0  247.0  236.0  235.0  248.0  246.0  234.0  236.0  236.0   \n",
      "2    247.0  247.0  249.0  236.0  235.0  248.0  247.0  234.0  236.0  236.0   \n",
      "3    235.0  236.0  236.0  249.0  248.0  237.0  235.0  247.0  249.0  249.0   \n",
      "4    234.0  235.0  235.0  248.0  249.0  236.0  234.0  247.0  248.0  248.0   \n",
      "..     ...    ...    ...    ...    ...    ...    ...    ...    ...    ...   \n",
      "836  235.0  236.0  236.0  249.0  248.0  237.0  235.0  247.0  249.0  249.0   \n",
      "837  235.0  235.0  237.0  248.0  247.0  236.0  235.0  246.0  248.0  248.0   \n",
      "838  235.0  236.0  236.0  249.0  248.0  237.0  235.0  247.0  249.0  249.0   \n",
      "839  247.0  248.0  248.0  237.0  236.0  249.0  247.0  235.0  237.0  237.0   \n",
      "840  226.0  226.0  226.0  225.0  224.0  227.0  225.0  223.0  225.0  225.0   \n",
      "\n",
      "     ...    828    829    830    831    832    833    834    835    836    837  \n",
      "0    ...  235.0  234.0  235.0  235.0  234.0  232.0  235.0  235.0  235.0  235.0  \n",
      "1    ...  236.0  235.0  236.0  236.0  235.0  233.0  236.0  236.0  236.0  235.0  \n",
      "2    ...  236.0  235.0  236.0  236.0  235.0  234.0  236.0  236.0  236.0  237.0  \n",
      "3    ...  249.0  248.0  249.0  243.0  248.0  246.0  249.0  249.0  249.0  248.0  \n",
      "4    ...  248.0  247.0  248.0  242.0  247.0  245.0  248.0  248.0  248.0  247.0  \n",
      "..   ...    ...    ...    ...    ...    ...    ...    ...    ...    ...    ...  \n",
      "836  ...  249.0  248.0  249.0  243.0  248.0  246.0  249.0  249.0  249.0  248.0  \n",
      "837  ...  248.0  247.0  248.0  242.0  247.0  246.0  248.0  248.0  248.0  249.0  \n",
      "838  ...  249.0  248.0  249.0  243.0  248.0  246.0  249.0  249.0  249.0  248.0  \n",
      "839  ...  237.0  236.0  237.0  237.0  236.0  234.0  237.0  237.0  237.0  236.0  \n",
      "840  ...  225.0  224.0  225.0  223.0  224.0  222.0  225.0  225.0  225.0  224.0  \n",
      "\n",
      "[841 rows x 838 columns]\n"
     ]
    }
   ],
   "source": [
    "for i in range(0, len(sizedReadings)):\n",
    "    df[i][len(sizedReadings)] = aligner.align(expected[0].seq, sizedReadings[i]).score\n",
    "    df[i][len(sizedReadings)+1] = aligner.align(expected[1].seq, sizedReadings[i]).score\n",
    "    df[i][len(sizedReadings)+2] = aligner.align(expected[2].seq, sizedReadings[i]).score\n",
    "\n",
    "print(df)\n",
    "    \n",
    "pca = PCA(n_components=2)\n",
    "principalComponents = pca.fit_transform(df)\n",
    "principalDf = pd.DataFrame(data = principalComponents\n",
    "             , columns = ['PC1', 'PC2'])\n"
   ]
  },
  {
   "cell_type": "code",
   "execution_count": 5,
   "id": "faa96e29",
   "metadata": {},
   "outputs": [
    {
     "data": {
      "image/png": "[encoded data removed]",
      "text/plain": [
       "<Figure size 432x288 with 1 Axes>"
      ]
     },
     "metadata": {
      "needs_background": "light"
     },
     "output_type": "display_data"
    }
   ],
   "source": [
    "K = range(1,20)\n",
    "Sum_of_squared_distance = []\n",
    "for num_clusters in K :\n",
    " kmeans = KMeans(n_clusters=num_clusters)\n",
    " kmeans.fit(principalDf)\n",
    " Sum_of_squared_distance.append(kmeans.inertia_)\n",
    "plt.plot(K,Sum_of_squared_distance,'bx-')\n",
    "plt.xlabel('Values of K') \n",
    "plt.ylabel('Sum of squared distances/Inertia') \n",
    "plt.title('Elbow Method For Optimal k')\n",
    "plt.show()"
   ]
  },
  {
   "cell_type": "code",
   "execution_count": 6,
   "id": "c8241be7",
   "metadata": {},
   "outputs": [
    {
     "name": "stdout",
     "output_type": "stream",
     "text": [
      "            PC1        PC2\n",
      "838  -35.616970  -0.932953\n",
      "839  300.900761 -59.033795\n",
      "840  633.348033  87.368976\n",
      "-35.61697024750582 -0.9329533131764165\n",
      "300.90076078017916 -59.03379490868715\n",
      "633.348032960526 87.3689762143171\n"
     ]
    },
    {
     "data": {
      "image/png": "[encoded data removed]",
      "text/plain": [
       "<Figure size 432x288 with 1 Axes>"
      ]
     },
     "metadata": {
      "needs_background": "light"
     },
     "output_type": "display_data"
    }
   ],
   "source": [
    "#Initialize the class object\n",
    "kmeans = KMeans(n_clusters= 3)\n",
    " \n",
    "#predict the labels of clusters.\n",
    "label = kmeans.fit_predict(principalDf)\n",
    "#print(label)\n",
    "\n",
    "#Getting unique labels\n",
    " \n",
    "u_labels = np.unique(label)\n",
    " \n",
    "#plotting the results:\n",
    " \n",
    "for i in u_labels:\n",
    "    plt.scatter(principalComponents[label == i , 0] , principalComponents[label == i , 1] , label = i)\n",
    "\n",
    "\n",
    "df2 = pd.DataFrame(data=principalDf.tail(3))\n",
    "print(df2)\n",
    "for i in range(0,len(df2)):\n",
    "    print(df2.iloc[i]['PC1'], df2.iloc[i]['PC2'])\n",
    "    plt.scatter(df2.iloc[i]['PC1'], df2.iloc[i]['PC2'], color='red')\n",
    "\n",
    "    \n",
    "centers = kmeans.cluster_centers_\n",
    "plt.scatter(centers[:, 0], centers[:, 1], c='black', s=200, alpha=0.5);\n",
    "\n",
    "plt.legend()\n",
    "plt.show()"
   ]
  },
  {
   "cell_type": "code",
   "execution_count": 7,
   "id": "396d1a5e",
   "metadata": {},
   "outputs": [
    {
     "name": "stdout",
     "output_type": "stream",
     "text": [
      "JELEN 5-6 =  24.0 Number of alignments: 28414623744000\n",
      "JELEN 6-7 =  29.0 Number of alignments: 9441232316006400\n",
      "JELEN 5-7 =  20.0 Number of alignments: 566658892800\n"
     ]
    }
   ],
   "source": [
    "notebook_path = os.path.abspath(\"genomeClustering.ipynb\")\n",
    "path = os.path.join(os.path.dirname(notebook_path), \"data/J30B_expected.fasta\")\n",
    "pathFASTQ= os.path.join(os.path.dirname(notebook_path), \"data/fastq/J30_B_CE_IonXpress_006.fastq\")\n",
    "\n",
    "expected = list(SeqIO.parse(path, \"fasta\"))\n",
    "    \n",
    "from Bio import Align\n",
    "aligner = Align.PairwiseAligner()\n",
    "aligner.mode = 'global'\n",
    "\n",
    "aligner.match_score = 1\n",
    "aligner.mismatch_score = 0\n",
    "aligner.open_gap_score = 0\n",
    "aligner.extend_gap_score = 0\n",
    "aligner.target_end_gap_score = 0\n",
    "aligner.query_end_gap_score = 0\n",
    "\n",
    "#print(aligner.query_end_gap_score)\n",
    "\n",
    "\n",
    "expAlign1 = aligner.align(expected[0].seq,expected[1].seq)\n",
    "print(\"JELEN 5-6 = \",249-expAlign1[0].score, \"Number of alignments: %d\" % len(expAlign1))\n",
    "expAlign2 = aligner.align(expected[1].seq,expected[2].seq)\n",
    "print(\"JELEN 6-7 = \",249-expAlign2[0].score, \"Number of alignments: %d\" % len(expAlign2))\n",
    "expAlign3 = aligner.align(expected[0].seq,expected[2].seq)\n",
    "print(\"JELEN 5-7 = \",249-expAlign3[0].score, \"Number of alignments: %d\" % len(expAlign3))\n",
    "\n",
    "data = list(SeqIO.parse(pathFASTQ, \"fastq\"))\n",
    "\n"
   ]
  },
  {
   "cell_type": "code",
   "execution_count": 8,
   "id": "d1e9b1c7",
   "metadata": {},
   "outputs": [
    {
     "name": "stdout",
     "output_type": "stream",
     "text": [
      "       0      1      2      3      4      5      6      7      8      9     \\\n",
      "0     249.0  237.0  224.0  248.0  246.0  223.0  224.0  247.0  248.0  248.0   \n",
      "1     237.0  249.0  232.0  238.0  235.0  231.0  232.0  238.0  238.0  238.0   \n",
      "2     224.0  232.0  249.0  225.0  223.0  247.0  249.0  225.0  225.0  225.0   \n",
      "3     248.0  238.0  225.0  249.0  246.0  224.0  225.0  248.0  249.0  249.0   \n",
      "4     246.0  235.0  223.0  246.0  249.0  222.0  223.0  245.0  246.0  246.0   \n",
      "...     ...    ...    ...    ...    ...    ...    ...    ...    ...    ...   \n",
      "1142  224.0  232.0  249.0  225.0  223.0  247.0  249.0  225.0  225.0  225.0   \n",
      "1143  224.0  232.0  248.0  225.0  223.0  248.0  248.0  225.0  225.0  225.0   \n",
      "1144    0.0    0.0    0.0    0.0    0.0    0.0    0.0    0.0    0.0    0.0   \n",
      "1145    0.0    0.0    0.0    0.0    0.0    0.0    0.0    0.0    0.0    0.0   \n",
      "1146    0.0    0.0    0.0    0.0    0.0    0.0    0.0    0.0    0.0    0.0   \n",
      "\n",
      "      ...   1134   1135   1136   1137   1138   1139   1140   1141   1142  \\\n",
      "0     ...  248.0  247.0  224.0  224.0  248.0  224.0  248.0  224.0  224.0   \n",
      "1     ...  238.0  237.0  232.0  232.0  238.0  232.0  238.0  232.0  232.0   \n",
      "2     ...  225.0  224.0  248.0  248.0  225.0  249.0  225.0  249.0  249.0   \n",
      "3     ...  249.0  248.0  225.0  225.0  249.0  225.0  249.0  225.0  225.0   \n",
      "4     ...  246.0  245.0  223.0  223.0  246.0  223.0  246.0  223.0  223.0   \n",
      "...   ...    ...    ...    ...    ...    ...    ...    ...    ...    ...   \n",
      "1142  ...  225.0  224.0  248.0  248.0  225.0  249.0  225.0  249.0  249.0   \n",
      "1143  ...  225.0  224.0  248.0  249.0  225.0  248.0  225.0  248.0  248.0   \n",
      "1144  ...    0.0    0.0    0.0    0.0    0.0    0.0    0.0    0.0    0.0   \n",
      "1145  ...    0.0    0.0    0.0    0.0    0.0    0.0    0.0    0.0    0.0   \n",
      "1146  ...    0.0    0.0    0.0    0.0    0.0    0.0    0.0    0.0    0.0   \n",
      "\n",
      "       1143  \n",
      "0     224.0  \n",
      "1     232.0  \n",
      "2     248.0  \n",
      "3     225.0  \n",
      "4     223.0  \n",
      "...     ...  \n",
      "1142  248.0  \n",
      "1143  249.0  \n",
      "1144    0.0  \n",
      "1145    0.0  \n",
      "1146    0.0  \n",
      "\n",
      "[1147 rows x 1144 columns]\n"
     ]
    }
   ],
   "source": [
    "sizedReadings = []\n",
    "\n",
    "for dataDistances in data:\n",
    "    if(len(dataDistances.seq)==296):\n",
    "        sizedReadings.append(dataDistances.seq[27:-20])\n",
    "df = DataFrame(np.zeros((len(sizedReadings)+3, len(sizedReadings))))\n",
    "\n",
    "for i in range(0, len(sizedReadings)):\n",
    "    for j in range(i, len(sizedReadings)):\n",
    "        distance = aligner.align(sizedReadings[i], sizedReadings[j]).score\n",
    "        df[i][j] = distance\n",
    "        df[j][i] = distance\n",
    "print(df)"
   ]
  },
  {
   "cell_type": "code",
   "execution_count": 9,
   "id": "02b2e5e5",
   "metadata": {},
   "outputs": [
    {
     "name": "stdout",
     "output_type": "stream",
     "text": [
      "       0      1      2      3      4      5      6      7      8      9     \\\n",
      "0     249.0  237.0  224.0  248.0  246.0  223.0  224.0  247.0  248.0  248.0   \n",
      "1     237.0  249.0  232.0  238.0  235.0  231.0  232.0  238.0  238.0  238.0   \n",
      "2     224.0  232.0  249.0  225.0  223.0  247.0  249.0  225.0  225.0  225.0   \n",
      "3     248.0  238.0  225.0  249.0  246.0  224.0  225.0  248.0  249.0  249.0   \n",
      "4     246.0  235.0  223.0  246.0  249.0  222.0  223.0  245.0  246.0  246.0   \n",
      "...     ...    ...    ...    ...    ...    ...    ...    ...    ...    ...   \n",
      "1142  224.0  232.0  249.0  225.0  223.0  247.0  249.0  225.0  225.0  225.0   \n",
      "1143  224.0  232.0  248.0  225.0  223.0  248.0  248.0  225.0  225.0  225.0   \n",
      "1144  248.0  238.0  225.0  249.0  246.0  224.0  225.0  248.0  249.0  249.0   \n",
      "1145  224.0  232.0  249.0  225.0  223.0  247.0  249.0  225.0  225.0  225.0   \n",
      "1146  228.0  221.0  220.0  229.0  226.0  219.0  220.0  230.0  229.0  229.0   \n",
      "\n",
      "      ...   1134   1135   1136   1137   1138   1139   1140   1141   1142  \\\n",
      "0     ...  248.0  247.0  224.0  224.0  248.0  224.0  248.0  224.0  224.0   \n",
      "1     ...  238.0  237.0  232.0  232.0  238.0  232.0  238.0  232.0  232.0   \n",
      "2     ...  225.0  224.0  248.0  248.0  225.0  249.0  225.0  249.0  249.0   \n",
      "3     ...  249.0  248.0  225.0  225.0  249.0  225.0  249.0  225.0  225.0   \n",
      "4     ...  246.0  245.0  223.0  223.0  246.0  223.0  246.0  223.0  223.0   \n",
      "...   ...    ...    ...    ...    ...    ...    ...    ...    ...    ...   \n",
      "1142  ...  225.0  224.0  248.0  248.0  225.0  249.0  225.0  249.0  249.0   \n",
      "1143  ...  225.0  224.0  248.0  249.0  225.0  248.0  225.0  248.0  248.0   \n",
      "1144  ...  249.0  248.0  225.0  225.0  249.0  225.0  249.0  225.0  225.0   \n",
      "1145  ...  225.0  224.0  248.0  248.0  225.0  249.0  225.0  249.0  249.0   \n",
      "1146  ...  229.0  228.0  220.0  220.0  229.0  220.0  229.0  220.0  220.0   \n",
      "\n",
      "       1143  \n",
      "0     224.0  \n",
      "1     232.0  \n",
      "2     248.0  \n",
      "3     225.0  \n",
      "4     223.0  \n",
      "...     ...  \n",
      "1142  248.0  \n",
      "1143  249.0  \n",
      "1144  225.0  \n",
      "1145  248.0  \n",
      "1146  220.0  \n",
      "\n",
      "[1147 rows x 1144 columns]\n"
     ]
    }
   ],
   "source": [
    "for i in range(0, len(sizedReadings)):\n",
    "    df[i][len(sizedReadings)] = aligner.align(expected[0].seq, sizedReadings[i]).score\n",
    "    df[i][len(sizedReadings)+1] = aligner.align(expected[1].seq, sizedReadings[i]).score\n",
    "    df[i][len(sizedReadings)+2] = aligner.align(expected[2].seq, sizedReadings[i]).score\n",
    "\n",
    "print(df)\n",
    "    \n",
    "pca = PCA(n_components=2)\n",
    "principalComponents = pca.fit_transform(df)\n",
    "principalDf = pd.DataFrame(data = principalComponents\n",
    "             , columns = ['PC1', 'PC2'])\n"
   ]
  },
  {
   "cell_type": "code",
   "execution_count": 10,
   "id": "c6a9c0b5",
   "metadata": {},
   "outputs": [
    {
     "data": {
      "image/png": "[encoded data removed]",
      "text/plain": [
       "<Figure size 432x288 with 1 Axes>"
      ]
     },
     "metadata": {
      "needs_background": "light"
     },
     "output_type": "display_data"
    }
   ],
   "source": [
    "K = range(1,20)\n",
    "Sum_of_squared_distance = []\n",
    "for num_clusters in K :\n",
    " kmeans = KMeans(n_clusters=num_clusters)\n",
    " kmeans.fit(principalDf)\n",
    " Sum_of_squared_distance.append(kmeans.inertia_)\n",
    "plt.plot(K,Sum_of_squared_distance,'bx-')\n",
    "plt.xlabel('Values of K') \n",
    "plt.ylabel('Sum of squared distances/Inertia') \n",
    "plt.title('Elbow Method For Optimal k')\n",
    "plt.show()"
   ]
  },
  {
   "cell_type": "code",
   "execution_count": 11,
   "id": "2c66454e",
   "metadata": {},
   "outputs": [
    {
     "name": "stdout",
     "output_type": "stream",
     "text": [
      "             PC1         PC2\n",
      "1144 -347.705561  -14.000555\n",
      "1145  446.174265  -11.989811\n",
      "1146  -39.883219  401.821978\n",
      "-347.7055612092174 -14.000555122291624\n",
      "446.1742653197898 -11.989811170817784\n",
      "-39.88321869538143 401.82197819034576\n"
     ]
    },
    {
     "data": {
      "image/png": "[encoded data removed]",
      "text/plain": [
       "<Figure size 432x288 with 1 Axes>"
      ]
     },
     "metadata": {
      "needs_background": "light"
     },
     "output_type": "display_data"
    }
   ],
   "source": [
    "#Initialize the class object\n",
    "kmeans = KMeans(n_clusters= 2)\n",
    " \n",
    "#predict the labels of clusters.\n",
    "label = kmeans.fit_predict(principalDf)\n",
    "#print(label)\n",
    "\n",
    "#Getting unique labels\n",
    " \n",
    "u_labels = np.unique(label)\n",
    " \n",
    "#plotting the results:\n",
    " \n",
    "for i in u_labels:\n",
    "    plt.scatter(principalComponents[label == i , 0] , principalComponents[label == i , 1] , label = i)\n",
    "\n",
    "\n",
    "df2 = pd.DataFrame(data=principalDf.tail(3))\n",
    "print(df2)\n",
    "for i in range(0,len(df2)):\n",
    "    print(df2.iloc[i]['PC1'], df2.iloc[i]['PC2'])\n",
    "    plt.scatter(df2.iloc[i]['PC1'], df2.iloc[i]['PC2'], color='red')\n",
    "\n",
    "    \n",
    "centers = kmeans.cluster_centers_\n",
    "plt.scatter(centers[:, 0], centers[:, 1], c='black', s=200, alpha=0.5);\n",
    "\n",
    "plt.legend()\n",
    "plt.show()"
   ]
  }
 ],
 "metadata": {
  "kernelspec": {
   "display_name": "Python 3",
   "language": "python",
   "name": "python3"
  },
  "language_info": {
   "codemirror_mode": {
    "name": "ipython",
    "version": 3
   },
   "file_extension": ".py",
   "mimetype": "text/x-python",
   "name": "python",
   "nbconvert_exporter": "python",
   "pygments_lexer": "ipython3",
   "version": "3.8.8"
  }
 },
 "nbformat": 4,
 "nbformat_minor": 5
}
