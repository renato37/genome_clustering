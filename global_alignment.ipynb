{
 "cells": [
  {
   "cell_type": "code",
   "execution_count": 1,
   "id": "67901229",
   "metadata": {},
   "outputs": [],
   "source": [
    "import os\n",
    "from Bio import SeqIO\n",
    "import matplotlib.pyplot as plt\n",
    "import pandas as pd\n",
    "import numpy as np\n",
    "from sklearn.decomposition import PCA\n",
    "from pandas import DataFrame\n",
    "from sklearn.cluster import KMeans\n",
    "import math"
   ]
  },
  {
   "cell_type": "code",
   "execution_count": 2,
   "id": "dc36e568",
   "metadata": {},
   "outputs": [
    {
     "name": "stdout",
     "output_type": "stream",
     "text": [
      "JELEN 5-6 =  -675.0 Number of alignments: 16\n",
      "JELEN 6-7 =  -625.0 Number of alignments: 16\n",
      "JELEN 5-7 =  -609.0 Number of alignments: 96\n"
     ]
    }
   ],
   "source": [
    "notebook_path = os.path.abspath(\"genomeClustering.ipynb\")\n",
    "path = os.path.join(os.path.dirname(notebook_path), \"data/J29B_expected.fasta\")\n",
    "pathFASTQ= os.path.join(os.path.dirname(notebook_path), \"data/fastq/J29_B_CE_IonXpress_005.fastq\")\n",
    "\n",
    "expected = list(SeqIO.parse(path, \"fasta\"))\n",
    "    \n",
    "from Bio import Align\n",
    "aligner = Align.PairwiseAligner()\n",
    "aligner.mode = 'global'\n",
    "\n",
    "aligner.match_score = 4\n",
    "aligner.mismatch_score = -1\n",
    "aligner.open_gap_score = -2\n",
    "aligner.extend_gap_score = -2\n",
    "aligner.target_end_gap_score = -2\n",
    "aligner.query_end_gap_score = -2\n",
    "\n",
    "#print(aligner.query_end_gap_score)\n",
    "\n",
    "\n",
    "expAlign1 = aligner.align(expected[0].seq,expected[1].seq)\n",
    "print(\"JELEN 5-6 = \",249-expAlign1[0].score, \"Number of alignments: %d\" % len(expAlign1))\n",
    "expAlign2 = aligner.align(expected[1].seq,expected[2].seq)\n",
    "print(\"JELEN 6-7 = \",249-expAlign2[0].score, \"Number of alignments: %d\" % len(expAlign2))\n",
    "expAlign3 = aligner.align(expected[0].seq,expected[2].seq)\n",
    "print(\"JELEN 5-7 = \",249-expAlign3[0].score, \"Number of alignments: %d\" % len(expAlign3))\n",
    "\n",
    "data = list(SeqIO.parse(pathFASTQ, \"fastq\"))\n",
    "\n"
   ]
  },
  {
   "cell_type": "code",
   "execution_count": 3,
   "id": "a14b53fa",
   "metadata": {},
   "outputs": [
    {
     "name": "stdout",
     "output_type": "stream",
     "text": [
      "       0      1      2      3      4      5      6      7      8      9    \\\n",
      "0    996.0  978.0  983.0  911.0  906.0  983.0  978.0  895.0  911.0  911.0   \n",
      "1    978.0  996.0  983.0  919.0  914.0  991.0  975.0  903.0  919.0  919.0   \n",
      "2    983.0  983.0  996.0  916.0  911.0  988.0  980.0  900.0  916.0  916.0   \n",
      "3    911.0  919.0  916.0  996.0  991.0  924.0  908.0  980.0  996.0  996.0   \n",
      "4    906.0  914.0  911.0  991.0  996.0  919.0  903.0  980.0  991.0  991.0   \n",
      "..     ...    ...    ...    ...    ...    ...    ...    ...    ...    ...   \n",
      "836  911.0  919.0  916.0  996.0  991.0  924.0  908.0  980.0  996.0  996.0   \n",
      "837  911.0  911.0  924.0  988.0  983.0  916.0  908.0  972.0  988.0  988.0   \n",
      "838    0.0    0.0    0.0    0.0    0.0    0.0    0.0    0.0    0.0    0.0   \n",
      "839    0.0    0.0    0.0    0.0    0.0    0.0    0.0    0.0    0.0    0.0   \n",
      "840    0.0    0.0    0.0    0.0    0.0    0.0    0.0    0.0    0.0    0.0   \n",
      "\n",
      "     ...    828    829    830    831    832    833    834    835    836    837  \n",
      "0    ...  911.0  906.0  911.0  908.0  906.0  890.0  911.0  911.0  911.0  911.0  \n",
      "1    ...  919.0  914.0  919.0  916.0  914.0  898.0  919.0  919.0  919.0  911.0  \n",
      "2    ...  916.0  911.0  916.0  913.0  911.0  903.0  916.0  916.0  916.0  924.0  \n",
      "3    ...  996.0  991.0  996.0  963.0  991.0  972.0  996.0  996.0  996.0  988.0  \n",
      "4    ...  991.0  986.0  991.0  958.0  986.0  967.0  991.0  991.0  991.0  983.0  \n",
      "..   ...    ...    ...    ...    ...    ...    ...    ...    ...    ...    ...  \n",
      "836  ...  996.0  991.0  996.0  963.0  991.0  972.0  996.0  996.0  996.0  988.0  \n",
      "837  ...  988.0  983.0  988.0  955.0  983.0  972.0  988.0  988.0  988.0  996.0  \n",
      "838  ...    0.0    0.0    0.0    0.0    0.0    0.0    0.0    0.0    0.0    0.0  \n",
      "839  ...    0.0    0.0    0.0    0.0    0.0    0.0    0.0    0.0    0.0    0.0  \n",
      "840  ...    0.0    0.0    0.0    0.0    0.0    0.0    0.0    0.0    0.0    0.0  \n",
      "\n",
      "[841 rows x 838 columns]\n"
     ]
    }
   ],
   "source": [
    "sizedReadings = []\n",
    "\n",
    "for dataDistances in data:\n",
    "    if(len(dataDistances.seq)==296):\n",
    "        sizedReadings.append(dataDistances.seq[27:-20])\n",
    "df = DataFrame(np.zeros((len(sizedReadings)+3, len(sizedReadings))))\n",
    "\n",
    "for i in range(0, len(sizedReadings)):\n",
    "    for j in range(i, len(sizedReadings)):\n",
    "        distance = aligner.align(sizedReadings[i], sizedReadings[j]).score\n",
    "        df[i][j] = distance\n",
    "        df[j][i] = distance\n",
    "print(df)"
   ]
  },
  {
   "cell_type": "code",
   "execution_count": 4,
   "id": "d33e7e53",
   "metadata": {},
   "outputs": [
    {
     "name": "stdout",
     "output_type": "stream",
     "text": [
      "       0      1      2      3      4      5      6      7      8      9    \\\n",
      "0    996.0  978.0  983.0  911.0  906.0  983.0  978.0  895.0  911.0  911.0   \n",
      "1    978.0  996.0  983.0  919.0  914.0  991.0  975.0  903.0  919.0  919.0   \n",
      "2    983.0  983.0  996.0  916.0  911.0  988.0  980.0  900.0  916.0  916.0   \n",
      "3    911.0  919.0  916.0  996.0  991.0  924.0  908.0  980.0  996.0  996.0   \n",
      "4    906.0  914.0  911.0  991.0  996.0  919.0  903.0  980.0  991.0  991.0   \n",
      "..     ...    ...    ...    ...    ...    ...    ...    ...    ...    ...   \n",
      "836  911.0  919.0  916.0  996.0  991.0  924.0  908.0  980.0  996.0  996.0   \n",
      "837  911.0  911.0  924.0  988.0  983.0  916.0  908.0  972.0  988.0  988.0   \n",
      "838  911.0  919.0  916.0  996.0  991.0  924.0  908.0  980.0  996.0  996.0   \n",
      "839  983.0  991.0  988.0  924.0  919.0  996.0  980.0  908.0  924.0  924.0   \n",
      "840  861.0  869.0  866.0  858.0  853.0  874.0  858.0  842.0  858.0  858.0   \n",
      "\n",
      "     ...    828    829    830    831    832    833    834    835    836    837  \n",
      "0    ...  911.0  906.0  911.0  908.0  906.0  890.0  911.0  911.0  911.0  911.0  \n",
      "1    ...  919.0  914.0  919.0  916.0  914.0  898.0  919.0  919.0  919.0  911.0  \n",
      "2    ...  916.0  911.0  916.0  913.0  911.0  903.0  916.0  916.0  916.0  924.0  \n",
      "3    ...  996.0  991.0  996.0  963.0  991.0  972.0  996.0  996.0  996.0  988.0  \n",
      "4    ...  991.0  986.0  991.0  958.0  986.0  967.0  991.0  991.0  991.0  983.0  \n",
      "..   ...    ...    ...    ...    ...    ...    ...    ...    ...    ...    ...  \n",
      "836  ...  996.0  991.0  996.0  963.0  991.0  972.0  996.0  996.0  996.0  988.0  \n",
      "837  ...  988.0  983.0  988.0  955.0  983.0  972.0  988.0  988.0  988.0  996.0  \n",
      "838  ...  996.0  991.0  996.0  963.0  991.0  972.0  996.0  996.0  996.0  988.0  \n",
      "839  ...  924.0  919.0  924.0  921.0  919.0  903.0  924.0  924.0  924.0  916.0  \n",
      "840  ...  858.0  853.0  858.0  851.0  853.0  837.0  858.0  858.0  858.0  850.0  \n",
      "\n",
      "[841 rows x 838 columns]\n"
     ]
    }
   ],
   "source": [
    "for i in range(0, len(sizedReadings)):\n",
    "    df[i][len(sizedReadings)] = aligner.align(expected[0].seq, sizedReadings[i]).score\n",
    "    df[i][len(sizedReadings)+1] = aligner.align(expected[1].seq, sizedReadings[i]).score\n",
    "    df[i][len(sizedReadings)+2] = aligner.align(expected[2].seq, sizedReadings[i]).score\n",
    "\n",
    "print(df)\n",
    "    \n",
    "pca = PCA(n_components=2)\n",
    "principalComponents = pca.fit_transform(df)\n",
    "principalDf = pd.DataFrame(data = principalComponents\n",
    "             , columns = ['PC1', 'PC2'])\n"
   ]
  },
  {
   "cell_type": "code",
   "execution_count": 5,
   "id": "faa96e29",
   "metadata": {},
   "outputs": [
    {
     "data": {
      "image/png": "[encoded data removed]",
      "text/plain": [
       "<Figure size 432x288 with 1 Axes>"
      ]
     },
     "metadata": {
      "needs_background": "light"
     },
     "output_type": "display_data"
    }
   ],
   "source": [
    "K = range(1,20)\n",
    "Sum_of_squared_distance = []\n",
    "for num_clusters in K :\n",
    " kmeans = KMeans(n_clusters=num_clusters)\n",
    " kmeans.fit(principalDf)\n",
    " Sum_of_squared_distance.append(kmeans.inertia_)\n",
    "plt.plot(K,Sum_of_squared_distance,'bx-')\n",
    "plt.xlabel('Values of K') \n",
    "plt.ylabel('Sum of squared distances/Inertia') \n",
    "plt.title('Elbow Method For Optimal k')\n",
    "plt.show()"
   ]
  },
  {
   "cell_type": "code",
   "execution_count": 6,
   "id": "c8241be7",
   "metadata": {},
   "outputs": [
    {
     "name": "stdout",
     "output_type": "stream",
     "text": [
      "             PC1         PC2\n",
      "838  -206.382223   -6.065417\n",
      "839  1818.294216 -333.985336\n",
      "840  3643.289666  493.499378\n",
      "-206.38222293677413 -6.06541736432522\n",
      "1818.2942163448804 -333.9853363563601\n",
      "3643.289666014066 493.49937830215947\n"
     ]
    },
    {
     "data": {
      "image/png": "[encoded data removed]",
      "text/plain": [
       "<Figure size 432x288 with 1 Axes>"
      ]
     },
     "metadata": {
      "needs_background": "light"
     },
     "output_type": "display_data"
    }
   ],
   "source": [
    "#Initialize the class object\n",
    "kmeans = KMeans(n_clusters= 3)\n",
    " \n",
    "#predict the labels of clusters.\n",
    "label = kmeans.fit_predict(principalDf)\n",
    "#print(label)\n",
    "\n",
    "#Getting unique labels\n",
    " \n",
    "u_labels = np.unique(label)\n",
    " \n",
    "#plotting the results:\n",
    " \n",
    "for i in u_labels:\n",
    "    plt.scatter(principalComponents[label == i , 0] , principalComponents[label == i , 1] , label = i)\n",
    "\n",
    "\n",
    "df2 = pd.DataFrame(data=principalDf.tail(3))\n",
    "print(df2)\n",
    "for i in range(0,len(df2)):\n",
    "    print(df2.iloc[i]['PC1'], df2.iloc[i]['PC2'])\n",
    "    plt.scatter(df2.iloc[i]['PC1'], df2.iloc[i]['PC2'], color='red')\n",
    "\n",
    "    \n",
    "centers = kmeans.cluster_centers_\n",
    "plt.scatter(centers[:, 0], centers[:, 1], c='black', s=200, alpha=0.5);\n",
    "\n",
    "plt.legend()\n",
    "plt.show()"
   ]
  },
  {
   "cell_type": "code",
   "execution_count": 7,
   "id": "d5f42e82",
   "metadata": {},
   "outputs": [
    {
     "name": "stdout",
     "output_type": "stream",
     "text": [
      "Točnost modela je:  0.968107012526544\n"
     ]
    }
   ],
   "source": [
    "dataframe_min = principalDf.min()\n",
    "dataframe_max = principalDf.max()\n",
    "\n",
    "data_dis_X = math.dist([dataframe_min['PC1']], [dataframe_max['PC1']])\n",
    "data_dis_Y = math.dist([dataframe_min['PC2']], [dataframe_max['PC2']])\n",
    "\n",
    "dis_sum = 0\n",
    "for i in range(0, 3):\n",
    "    for j in range(0, 3):\n",
    "        if(label[len(principalDf)-1-j] == i):\n",
    "            dis_X = math.dist([principalDf.iloc[len(principalDf)-1-j]['PC1']], [kmeans.cluster_centers_[i][0]])\n",
    "            dis_Y = math.dist([principalDf.iloc[len(principalDf)-1-j]['PC2']], [kmeans.cluster_centers_[i][1]])\n",
    "            dis_sum += (dis_X/data_dis_X + dis_Y/data_dis_Y)/6\n",
    "\n",
    "print('Točnost modela je: ', 1-dis_sum)"
   ]
  },
  {
   "cell_type": "markdown",
   "id": "b4230dfc",
   "metadata": {},
   "source": [
    "## Izračunavanje za J30 "
   ]
  },
  {
   "cell_type": "code",
   "execution_count": 8,
   "id": "396d1a5e",
   "metadata": {},
   "outputs": [
    {
     "name": "stdout",
     "output_type": "stream",
     "text": [
      "JELEN 5-6 =  -609.0 Number of alignments: 80\n",
      "JELEN 6-7 =  -584.0 Number of alignments: 40\n",
      "JELEN 5-7 =  -638.0 Number of alignments: 8\n"
     ]
    }
   ],
   "source": [
    "notebook_path = os.path.abspath(\"genomeClustering.ipynb\")\n",
    "path = os.path.join(os.path.dirname(notebook_path), \"data/J30B_expected.fasta\")\n",
    "pathFASTQ= os.path.join(os.path.dirname(notebook_path), \"data/fastq/J30_B_CE_IonXpress_006.fastq\")\n",
    "\n",
    "expected = list(SeqIO.parse(path, \"fasta\"))\n",
    "\n",
    "expAlign1 = aligner.align(expected[0].seq,expected[1].seq)\n",
    "print(\"JELEN 5-6 = \",249-expAlign1[0].score, \"Number of alignments: %d\" % len(expAlign1))\n",
    "expAlign2 = aligner.align(expected[1].seq,expected[2].seq)\n",
    "print(\"JELEN 6-7 = \",249-expAlign2[0].score, \"Number of alignments: %d\" % len(expAlign2))\n",
    "expAlign3 = aligner.align(expected[0].seq,expected[2].seq)\n",
    "print(\"JELEN 5-7 = \",249-expAlign3[0].score, \"Number of alignments: %d\" % len(expAlign3))\n",
    "\n",
    "data = list(SeqIO.parse(pathFASTQ, \"fastq\"))\n"
   ]
  },
  {
   "cell_type": "code",
   "execution_count": 9,
   "id": "d1e9b1c7",
   "metadata": {},
   "outputs": [
    {
     "name": "stdout",
     "output_type": "stream",
     "text": [
      "       0      1      2      3      4      5      6      7      8      9     \\\n",
      "0     996.0  921.0  850.0  988.0  978.0  839.0  850.0  983.0  988.0  988.0   \n",
      "1     921.0  996.0  902.0  929.0  911.0  891.0  902.0  929.0  929.0  929.0   \n",
      "2     850.0  902.0  996.0  858.0  845.0  983.0  996.0  858.0  858.0  858.0   \n",
      "3     988.0  929.0  858.0  996.0  978.0  847.0  858.0  991.0  996.0  996.0   \n",
      "4     978.0  911.0  845.0  978.0  996.0  834.0  845.0  973.0  978.0  978.0   \n",
      "...     ...    ...    ...    ...    ...    ...    ...    ...    ...    ...   \n",
      "1142  850.0  902.0  996.0  858.0  845.0  983.0  996.0  858.0  858.0  858.0   \n",
      "1143  847.0  899.0  991.0  855.0  842.0  988.0  991.0  855.0  855.0  855.0   \n",
      "1144    0.0    0.0    0.0    0.0    0.0    0.0    0.0    0.0    0.0    0.0   \n",
      "1145    0.0    0.0    0.0    0.0    0.0    0.0    0.0    0.0    0.0    0.0   \n",
      "1146    0.0    0.0    0.0    0.0    0.0    0.0    0.0    0.0    0.0    0.0   \n",
      "\n",
      "      ...   1134   1135   1136   1137   1138   1139   1140   1141   1142  \\\n",
      "0     ...  988.0  983.0  847.0  847.0  988.0  850.0  988.0  850.0  850.0   \n",
      "1     ...  929.0  924.0  899.0  899.0  929.0  902.0  929.0  902.0  902.0   \n",
      "2     ...  858.0  853.0  988.0  991.0  858.0  996.0  858.0  996.0  996.0   \n",
      "3     ...  996.0  991.0  855.0  855.0  996.0  858.0  996.0  858.0  858.0   \n",
      "4     ...  978.0  973.0  842.0  842.0  978.0  845.0  978.0  845.0  845.0   \n",
      "...   ...    ...    ...    ...    ...    ...    ...    ...    ...    ...   \n",
      "1142  ...  858.0  853.0  988.0  991.0  858.0  996.0  858.0  996.0  996.0   \n",
      "1143  ...  855.0  850.0  988.0  996.0  855.0  991.0  855.0  991.0  991.0   \n",
      "1144  ...    0.0    0.0    0.0    0.0    0.0    0.0    0.0    0.0    0.0   \n",
      "1145  ...    0.0    0.0    0.0    0.0    0.0    0.0    0.0    0.0    0.0   \n",
      "1146  ...    0.0    0.0    0.0    0.0    0.0    0.0    0.0    0.0    0.0   \n",
      "\n",
      "       1143  \n",
      "0     847.0  \n",
      "1     899.0  \n",
      "2     991.0  \n",
      "3     855.0  \n",
      "4     842.0  \n",
      "...     ...  \n",
      "1142  991.0  \n",
      "1143  996.0  \n",
      "1144    0.0  \n",
      "1145    0.0  \n",
      "1146    0.0  \n",
      "\n",
      "[1147 rows x 1144 columns]\n"
     ]
    }
   ],
   "source": [
    "sizedReadings = []\n",
    "\n",
    "for dataDistances in data:\n",
    "    if(len(dataDistances.seq)==296):\n",
    "        sizedReadings.append(dataDistances.seq[27:-20])\n",
    "df = DataFrame(np.zeros((len(sizedReadings)+3, len(sizedReadings))))\n",
    "\n",
    "for i in range(0, len(sizedReadings)):\n",
    "    for j in range(i, len(sizedReadings)):\n",
    "        distance = aligner.align(sizedReadings[i], sizedReadings[j]).score\n",
    "        df[i][j] = distance\n",
    "        df[j][i] = distance\n",
    "print(df)"
   ]
  },
  {
   "cell_type": "code",
   "execution_count": 10,
   "id": "02b2e5e5",
   "metadata": {},
   "outputs": [
    {
     "name": "stdout",
     "output_type": "stream",
     "text": [
      "       0      1      2      3      4      5      6      7      8      9     \\\n",
      "0     996.0  921.0  850.0  988.0  978.0  839.0  850.0  983.0  988.0  988.0   \n",
      "1     921.0  996.0  902.0  929.0  911.0  891.0  902.0  929.0  929.0  929.0   \n",
      "2     850.0  902.0  996.0  858.0  845.0  983.0  996.0  858.0  858.0  858.0   \n",
      "3     988.0  929.0  858.0  996.0  978.0  847.0  858.0  991.0  996.0  996.0   \n",
      "4     978.0  911.0  845.0  978.0  996.0  834.0  845.0  973.0  978.0  978.0   \n",
      "...     ...    ...    ...    ...    ...    ...    ...    ...    ...    ...   \n",
      "1142  850.0  902.0  996.0  858.0  845.0  983.0  996.0  858.0  858.0  858.0   \n",
      "1143  847.0  899.0  991.0  855.0  842.0  988.0  991.0  855.0  855.0  855.0   \n",
      "1144  988.0  929.0  858.0  996.0  978.0  847.0  858.0  991.0  996.0  996.0   \n",
      "1145  850.0  902.0  996.0  858.0  845.0  983.0  996.0  858.0  858.0  858.0   \n",
      "1146  879.0  844.0  833.0  887.0  869.0  825.0  833.0  892.0  887.0  887.0   \n",
      "\n",
      "      ...   1134   1135   1136   1137   1138   1139   1140   1141   1142  \\\n",
      "0     ...  988.0  983.0  847.0  847.0  988.0  850.0  988.0  850.0  850.0   \n",
      "1     ...  929.0  924.0  899.0  899.0  929.0  902.0  929.0  902.0  902.0   \n",
      "2     ...  858.0  853.0  988.0  991.0  858.0  996.0  858.0  996.0  996.0   \n",
      "3     ...  996.0  991.0  855.0  855.0  996.0  858.0  996.0  858.0  858.0   \n",
      "4     ...  978.0  973.0  842.0  842.0  978.0  845.0  978.0  845.0  845.0   \n",
      "...   ...    ...    ...    ...    ...    ...    ...    ...    ...    ...   \n",
      "1142  ...  858.0  853.0  988.0  991.0  858.0  996.0  858.0  996.0  996.0   \n",
      "1143  ...  855.0  850.0  988.0  996.0  855.0  991.0  855.0  991.0  991.0   \n",
      "1144  ...  996.0  991.0  855.0  855.0  996.0  858.0  996.0  858.0  858.0   \n",
      "1145  ...  858.0  853.0  988.0  991.0  858.0  996.0  858.0  996.0  996.0   \n",
      "1146  ...  887.0  882.0  836.0  833.0  887.0  833.0  887.0  833.0  833.0   \n",
      "\n",
      "       1143  \n",
      "0     847.0  \n",
      "1     899.0  \n",
      "2     991.0  \n",
      "3     855.0  \n",
      "4     842.0  \n",
      "...     ...  \n",
      "1142  991.0  \n",
      "1143  996.0  \n",
      "1144  855.0  \n",
      "1145  991.0  \n",
      "1146  833.0  \n",
      "\n",
      "[1147 rows x 1144 columns]\n"
     ]
    }
   ],
   "source": [
    "for i in range(0, len(sizedReadings)):\n",
    "    df[i][len(sizedReadings)] = aligner.align(expected[0].seq, sizedReadings[i]).score\n",
    "    df[i][len(sizedReadings)+1] = aligner.align(expected[1].seq, sizedReadings[i]).score\n",
    "    df[i][len(sizedReadings)+2] = aligner.align(expected[2].seq, sizedReadings[i]).score\n",
    "\n",
    "print(df)\n",
    "    \n",
    "pca = PCA(n_components=2)\n",
    "principalComponents = pca.fit_transform(df)\n",
    "principalDf = pd.DataFrame(data = principalComponents\n",
    "             , columns = ['PC1', 'PC2'])\n"
   ]
  },
  {
   "cell_type": "code",
   "execution_count": 11,
   "id": "c6a9c0b5",
   "metadata": {},
   "outputs": [
    {
     "data": {
      "image/png": "[encoded data removed]",
      "text/plain": [
       "<Figure size 432x288 with 1 Axes>"
      ]
     },
     "metadata": {
      "needs_background": "light"
     },
     "output_type": "display_data"
    }
   ],
   "source": [
    "K = range(1,20)\n",
    "Sum_of_squared_distance = []\n",
    "for num_clusters in K :\n",
    " kmeans = KMeans(n_clusters=num_clusters)\n",
    " kmeans.fit(principalDf)\n",
    " Sum_of_squared_distance.append(kmeans.inertia_)\n",
    "plt.plot(K,Sum_of_squared_distance,'bx-')\n",
    "plt.xlabel('Values of K') \n",
    "plt.ylabel('Sum of squared distances/Inertia') \n",
    "plt.title('Elbow Method For Optimal k')\n",
    "plt.show()"
   ]
  },
  {
   "cell_type": "code",
   "execution_count": 12,
   "id": "2c66454e",
   "metadata": {},
   "outputs": [
    {
     "name": "stdout",
     "output_type": "stream",
     "text": [
      "              PC1          PC2\n",
      "1144 -2025.404252   -77.266388\n",
      "1145  2572.929140   -95.916938\n",
      "1146  -292.454340  2126.476560\n"
     ]
    },
    {
     "data": {
      "image/png": "[encoded data removed]",
      "text/plain": [
       "<Figure size 432x288 with 1 Axes>"
      ]
     },
     "metadata": {
      "needs_background": "light"
     },
     "output_type": "display_data"
    }
   ],
   "source": [
    "#Initialize the class object\n",
    "kmeans = KMeans(n_clusters= 3)\n",
    " \n",
    "#predict the labels of clusters.\n",
    "label = kmeans.fit_predict(principalDf)\n",
    "#print(label)\n",
    "\n",
    "#Getting unique labels\n",
    " \n",
    "u_labels = np.unique(label)\n",
    " \n",
    "#plotting the results:\n",
    " \n",
    "for i in u_labels:\n",
    "    plt.scatter(principalComponents[label == i , 0] , principalComponents[label == i , 1] , label = i)\n",
    "\n",
    "\n",
    "df2 = pd.DataFrame(data=principalDf.tail(3))\n",
    "print(df2)\n",
    "for i in range(0,len(df2)):\n",
    "    plt.scatter(df2.iloc[i]['PC1'], df2.iloc[i]['PC2'], color='red')\n",
    "\n",
    "    \n",
    "centers = kmeans.cluster_centers_\n",
    "plt.scatter(centers[:, 0], centers[:, 1], c='black', s=200, alpha=0.5);\n",
    "\n",
    "plt.legend()\n",
    "plt.show()"
   ]
  },
  {
   "cell_type": "code",
   "execution_count": 13,
   "id": "784ca590",
   "metadata": {},
   "outputs": [
    {
     "name": "stdout",
     "output_type": "stream",
     "text": [
      "Točnost modela je:  0.8801635273907157\n"
     ]
    }
   ],
   "source": [
    "dataframe_min = principalDf.min()\n",
    "dataframe_max = principalDf.max()\n",
    "\n",
    "data_dis_X = math.dist([dataframe_min['PC1']], [dataframe_max['PC1']])\n",
    "data_dis_Y = math.dist([dataframe_min['PC2']], [dataframe_max['PC2']])\n",
    "\n",
    "dis_sum = 0\n",
    "for i in range(0, 3):\n",
    "    for j in range(0, 3):\n",
    "        if(label[len(principalDf)-1-j] == i):\n",
    "            dis_X = math.dist([principalDf.iloc[len(principalDf)-1-j]['PC1']], [kmeans.cluster_centers_[i][0]])\n",
    "            dis_Y = math.dist([principalDf.iloc[len(principalDf)-1-j]['PC2']], [kmeans.cluster_centers_[i][1]])\n",
    "            dis_sum += (dis_X/data_dis_X + dis_Y/data_dis_Y)/6\n",
    "\n",
    "print('Točnost modela je: ', 1-dis_sum)"
   ]
  }
 ],
 "metadata": {
  "kernelspec": {
   "display_name": "Python 3",
   "language": "python",
   "name": "python3"
  },
  "language_info": {
   "codemirror_mode": {
    "name": "ipython",
    "version": 3
   },
   "file_extension": ".py",
   "mimetype": "text/x-python",
   "name": "python",
   "nbconvert_exporter": "python",
   "pygments_lexer": "ipython3",
   "version": "3.8.8"
  }
 },
 "nbformat": 4,
 "nbformat_minor": 5
}
