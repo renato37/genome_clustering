{
 "cells": [
  {
   "cell_type": "code",
   "execution_count": 1,
   "id": "fd6f23d2",
   "metadata": {},
   "outputs": [],
   "source": [
    "import os\n",
    "from Bio import SeqIO\n",
    "import matplotlib.pyplot as plt\n",
    "import pandas as pd\n",
    "import numpy as np\n",
    "from sklearn.decomposition import PCA\n",
    "from pandas import DataFrame\n",
    "from sklearn.cluster import KMeans\n",
    "import math"
   ]
  },
  {
   "cell_type": "code",
   "execution_count": 2,
   "id": "38ec9183",
   "metadata": {},
   "outputs": [],
   "source": [
    "notebook_path = os.path.abspath(\"genomeClustering.ipynb\")\n",
    "pathFASTQ= os.path.join(os.path.dirname(notebook_path), \"data/fastq/J1_S_CE_IonXpress_018.fastq\")\n",
    "\n",
    "\n",
    "from Bio import Align\n",
    "aligner = Align.PairwiseAligner()\n",
    "aligner.mode = 'global'\n",
    "\n",
    "aligner.match_score = 4\n",
    "aligner.mismatch_score = -1\n",
    "aligner.open_gap_score = -2\n",
    "aligner.extend_gap_score = -2\n",
    "aligner.target_end_gap_score = -2\n",
    "aligner.query_end_gap_score = -2\n",
    "\n",
    "data = list(SeqIO.parse(pathFASTQ, \"fastq\"))"
   ]
  },
  {
   "cell_type": "code",
   "execution_count": 3,
   "id": "da568546",
   "metadata": {},
   "outputs": [],
   "source": [
    "sizedReadings = []\n",
    "\n",
    "for dataDistances in data:\n",
    "    if(len(dataDistances.seq)==296):\n",
    "        sizedReadings.append(dataDistances.seq[27:-20])\n",
    "df = DataFrame(np.zeros((len(sizedReadings), len(sizedReadings))))\n",
    "\n",
    "for i in range(0, len(sizedReadings)):\n",
    "    for j in range(i, len(sizedReadings)):\n",
    "        distance = aligner.align(sizedReadings[i], sizedReadings[j]).score\n",
    "        df[i][j] = distance\n",
    "        df[j][i] = distance"
   ]
  },
  {
   "cell_type": "code",
   "execution_count": 4,
   "id": "c909cd98",
   "metadata": {},
   "outputs": [],
   "source": [
    "pca = PCA(n_components=2)\n",
    "principalComponents = pca.fit_transform(df)\n",
    "principalDf = pd.DataFrame(data = principalComponents\n",
    "             , columns = ['PC1', 'PC2'])\n"
   ]
  },
  {
   "cell_type": "code",
   "execution_count": 5,
   "id": "2e7a5890",
   "metadata": {},
   "outputs": [
    {
     "data": {
      "image/png": "[encoded data removed]",
      "text/plain": [
       "<Figure size 432x288 with 1 Axes>"
      ]
     },
     "metadata": {
      "needs_background": "light"
     },
     "output_type": "display_data"
    }
   ],
   "source": [
    "K = range(1,10)\n",
    "Sum_of_squared_distance = []\n",
    "for num_clusters in K :\n",
    " kmeans = KMeans(n_clusters=num_clusters)\n",
    " kmeans.fit(principalDf)\n",
    " Sum_of_squared_distance.append(kmeans.inertia_)\n",
    "plt.plot(K,Sum_of_squared_distance,'bx-')\n",
    "plt.xlabel('Values of K') \n",
    "plt.ylabel('Sum of squared distances/Inertia') \n",
    "plt.title('Elbow Method For Optimal k')\n",
    "plt.show()"
   ]
  },
  {
   "cell_type": "code",
   "execution_count": 6,
   "id": "a455e7f2",
   "metadata": {},
   "outputs": [
    {
     "data": {
      "image/png": "[encoded data removed]",
      "text/plain": [
       "<Figure size 432x288 with 1 Axes>"
      ]
     },
     "metadata": {
      "needs_background": "light"
     },
     "output_type": "display_data"
    }
   ],
   "source": [
    "#Initialize the class object\n",
    "kmeans = KMeans(n_clusters= 3)\n",
    " \n",
    "#predict the labels of clusters.\n",
    "label = kmeans.fit_predict(principalDf)\n",
    "#print(label)\n",
    "\n",
    "#Getting unique labels\n",
    " \n",
    "u_labels = np.unique(label)\n",
    " \n",
    "#plotting the results:\n",
    " \n",
    "for i in u_labels:\n",
    "    plt.scatter(principalComponents[label == i , 0] , principalComponents[label == i , 1] , label = i)\n",
    "centers = kmeans.cluster_centers_\n",
    "plt.scatter(centers[:, 0], centers[:, 1], c='black', s=200, alpha=0.5);\n",
    "\n",
    "plt.legend()\n",
    "plt.show()"
   ]
  },
  {
   "cell_type": "markdown",
   "id": "0a2d05f7",
   "metadata": {},
   "source": [
    "### Izračunavanje koje očitanje bi bilo središte clustera za određeni genom"
   ]
  },
  {
   "cell_type": "code",
   "execution_count": 23,
   "id": "4f4709b9",
   "metadata": {},
   "outputs": [
    {
     "name": "stdout",
     "output_type": "stream",
     "text": [
      "0 :  GAGTATGCTAAGAGCGAGTGTCATTTCTCCAACGGGACGCAGCGGGTGCAGTTCCTGCAGAGATACATCTATAACCGGGAAGAGTACGCGCGCTTCGACAGCGACTGGGGCGAGTTCCGGGCGGTGACCGAGCTGGGGGCGCCGGACGCCAAGTACTGGAACAGCCAGAAGGAGATCCTGGAGCGGGCGCGGGCCGAGGTGGACACGGTGTGCAGACACAACTACGGGGTTTTTGAGAGTTTCACTGTG \n",
      "\n",
      "1 :  CTGTATACTACGAGCGAGTGTCATTTCTCCGACGGGACGCAGCGGGTGGGGTTCCTGGACAGATACTTCTATAACGGAGAAGAGTACGTGCGCTTCGACAGCGACTGGGGCGAGTACCGGGCGGTGACAGAGCTGGGGCGGCCGTCCGCCAAGTACTGGAACAGCCAGAAGGAGTACATGGAGCAGACGCGGGCCGAGGTGGACAGGTACTGCAGACACAACTACGGGGTTCTTGACAGTTTCGCTGTG \n",
      "\n",
      "2 :  GCTGTATACTACGAGCGAGTGTCATTTCTCCAACGGGACGCAGCGGGTGGGGTTCCTGGACAGATACTTCTATAACGGAGAAGAGTACGTGCGCTTCGACAGCGACTGGGGGGGGCGAGTACCGGGCGGTGGCAGAGCTGGGGGGGGCGGCCGTCCGCCAAGTACTGGAACAGCCAGAAGGAGTACATGGAGCAGACGCGGGCCGAGGGGGGGGGACAGGTACTGCAGACACAACTACGGGGGGGGGTT \n",
      "\n"
     ]
    }
   ],
   "source": [
    "\n",
    "\n",
    "centroids = {}\n",
    "for i in range(0, len(label)):\n",
    "    current_distance =  math.dist(kmeans.cluster_centers_[label[i]], principalComponents[i])\n",
    "    if(label[i] not in centroids):\n",
    "        centroids[label[i]] = (i, current_distance)\n",
    "    elif(current_distance<centroids[label[i]][1]):\n",
    "        centroids[label[i]] = (i, current_distance)\n",
    "\n",
    "for cent in sorted(centroids):\n",
    "    print(cent, \": \", sizedReadings[centroids[cent][0]], \"\\n\")\n"
   ]
  }
 ],
 "metadata": {
  "kernelspec": {
   "display_name": "Python 3",
   "language": "python",
   "name": "python3"
  },
  "language_info": {
   "codemirror_mode": {
    "name": "ipython",
    "version": 3
   },
   "file_extension": ".py",
   "mimetype": "text/x-python",
   "name": "python",
   "nbconvert_exporter": "python",
   "pygments_lexer": "ipython3",
   "version": "3.8.8"
  }
 },
 "nbformat": 4,
 "nbformat_minor": 5
}
