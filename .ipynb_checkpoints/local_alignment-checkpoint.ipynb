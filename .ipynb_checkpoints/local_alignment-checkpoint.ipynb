{
 "cells": [
  {
   "cell_type": "code",
   "execution_count": 1,
   "id": "67901229",
   "metadata": {},
   "outputs": [],
   "source": [
    "import os\n",
    "from Bio import SeqIO\n",
    "import matplotlib.pyplot as plt\n",
    "import pandas as pd\n",
    "import numpy as np\n",
    "from sklearn.decomposition import PCA\n",
    "from pandas import DataFrame\n",
    "from sklearn.cluster import KMeans\n",
    "import math"
   ]
  },
  {
   "cell_type": "code",
   "execution_count": 2,
   "id": "dc36e568",
   "metadata": {},
   "outputs": [
    {
     "name": "stdout",
     "output_type": "stream",
     "text": [
      "JELEN 5-6 =  16.0 Number of alignments: 1\n",
      "JELEN 6-7 =  26.0 Number of alignments: 1\n",
      "JELEN 5-7 =  30.0 Number of alignments: 1\n"
     ]
    }
   ],
   "source": [
    "notebook_path = os.path.abspath(\"genomeClustering.ipynb\")\n",
    "path = os.path.join(os.path.dirname(notebook_path), \"data/J29B_expected.fasta\")\n",
    "pathFASTQ= os.path.join(os.path.dirname(notebook_path), \"data/fastq/J29_B_CE_IonXpress_005.fastq\")\n",
    "\n",
    "expected = list(SeqIO.parse(path, \"fasta\"))\n",
    "    \n",
    "from Bio import Align\n",
    "aligner = Align.PairwiseAligner()\n",
    "aligner.mode = 'local'\n",
    "\n",
    "aligner.match_score = 1\n",
    "aligner.mismatch_score = 0\n",
    "aligner.open_gap_score = -1\n",
    "aligner.extend_gap_score = 0\n",
    "aligner.target_end_gap_score = 0\n",
    "aligner.query_end_gap_score = 0\n",
    "\n",
    "#print(aligner.query_end_gap_score)\n",
    "\n",
    "\n",
    "expAlign1 = aligner.align(expected[0].seq,expected[1].seq)\n",
    "print(\"JELEN 5-6 = \",249-expAlign1[0].score, \"Number of alignments: %d\" % len(expAlign1))\n",
    "expAlign2 = aligner.align(expected[1].seq,expected[2].seq)\n",
    "print(\"JELEN 6-7 = \",249-expAlign2[0].score, \"Number of alignments: %d\" % len(expAlign2))\n",
    "expAlign3 = aligner.align(expected[0].seq,expected[2].seq)\n",
    "print(\"JELEN 5-7 = \",249-expAlign3[0].score, \"Number of alignments: %d\" % len(expAlign3))\n",
    "\n",
    "data = list(SeqIO.parse(pathFASTQ, \"fastq\"))\n",
    "\n"
   ]
  },
  {
   "cell_type": "code",
   "execution_count": 3,
   "id": "a14b53fa",
   "metadata": {},
   "outputs": [
    {
     "name": "stdout",
     "output_type": "stream",
     "text": [
      "       0      1      2      3      4      5      6      7      8      9    \\\n",
      "0    249.0  245.0  245.0  230.0  229.0  246.0  244.0  225.0  230.0  230.0   \n",
      "1    245.0  249.0  246.0  232.0  231.0  248.0  243.0  227.0  232.0  232.0   \n",
      "2    245.0  246.0  249.0  231.0  230.0  247.0  243.0  226.0  231.0  231.0   \n",
      "3    230.0  232.0  231.0  249.0  248.0  233.0  228.0  244.0  249.0  249.0   \n",
      "4    229.0  231.0  230.0  248.0  249.0  232.0  227.0  244.0  248.0  248.0   \n",
      "..     ...    ...    ...    ...    ...    ...    ...    ...    ...    ...   \n",
      "836  230.0  232.0  231.0  249.0  248.0  233.0  228.0  244.0  249.0  249.0   \n",
      "837  229.0  230.0  233.0  247.0  246.0  231.0  227.0  242.0  247.0  247.0   \n",
      "838    0.0    0.0    0.0    0.0    0.0    0.0    0.0    0.0    0.0    0.0   \n",
      "839    0.0    0.0    0.0    0.0    0.0    0.0    0.0    0.0    0.0    0.0   \n",
      "840    0.0    0.0    0.0    0.0    0.0    0.0    0.0    0.0    0.0    0.0   \n",
      "\n",
      "     ...    828    829    830    831    832    833    834    835    836    837  \n",
      "0    ...  230.0  229.0  230.0  229.0  229.0  224.0  230.0  230.0  230.0  229.0  \n",
      "1    ...  232.0  231.0  232.0  231.0  231.0  226.0  232.0  232.0  232.0  230.0  \n",
      "2    ...  231.0  230.0  231.0  230.0  230.0  227.0  231.0  231.0  231.0  233.0  \n",
      "3    ...  249.0  248.0  249.0  241.0  248.0  242.0  249.0  249.0  249.0  247.0  \n",
      "4    ...  248.0  247.0  248.0  240.0  247.0  241.0  248.0  248.0  248.0  246.0  \n",
      "..   ...    ...    ...    ...    ...    ...    ...    ...    ...    ...    ...  \n",
      "836  ...  249.0  248.0  249.0  241.0  248.0  242.0  249.0  249.0  249.0  247.0  \n",
      "837  ...  247.0  246.0  247.0  239.0  246.0  242.0  247.0  247.0  247.0  249.0  \n",
      "838  ...    0.0    0.0    0.0    0.0    0.0    0.0    0.0    0.0    0.0    0.0  \n",
      "839  ...    0.0    0.0    0.0    0.0    0.0    0.0    0.0    0.0    0.0    0.0  \n",
      "840  ...    0.0    0.0    0.0    0.0    0.0    0.0    0.0    0.0    0.0    0.0  \n",
      "\n",
      "[841 rows x 838 columns]\n"
     ]
    }
   ],
   "source": [
    "sizedReadings = []\n",
    "\n",
    "for dataDistances in data:\n",
    "    if(len(dataDistances.seq)==296):\n",
    "        sizedReadings.append(dataDistances.seq[27:-20])\n",
    "df = DataFrame(np.zeros((len(sizedReadings)+3, len(sizedReadings))))\n",
    "\n",
    "for i in range(0, len(sizedReadings)):\n",
    "    for j in range(i, len(sizedReadings)):\n",
    "        distance = aligner.align(sizedReadings[i], sizedReadings[j]).score\n",
    "        df[i][j] = distance\n",
    "        df[j][i] = distance\n",
    "print(df)"
   ]
  },
  {
   "cell_type": "code",
   "execution_count": 4,
   "id": "d33e7e53",
   "metadata": {},
   "outputs": [
    {
     "name": "stdout",
     "output_type": "stream",
     "text": [
      "       0      1      2      3      4      5      6      7      8      9    \\\n",
      "0    249.0  245.0  245.0  230.0  229.0  246.0  244.0  225.0  230.0  230.0   \n",
      "1    245.0  249.0  246.0  232.0  231.0  248.0  243.0  227.0  232.0  232.0   \n",
      "2    245.0  246.0  249.0  231.0  230.0  247.0  243.0  226.0  231.0  231.0   \n",
      "3    230.0  232.0  231.0  249.0  248.0  233.0  228.0  244.0  249.0  249.0   \n",
      "4    229.0  231.0  230.0  248.0  249.0  232.0  227.0  244.0  248.0  248.0   \n",
      "..     ...    ...    ...    ...    ...    ...    ...    ...    ...    ...   \n",
      "836  230.0  232.0  231.0  249.0  248.0  233.0  228.0  244.0  249.0  249.0   \n",
      "837  229.0  230.0  233.0  247.0  246.0  231.0  227.0  242.0  247.0  247.0   \n",
      "838  230.0  232.0  231.0  249.0  248.0  233.0  228.0  244.0  249.0  249.0   \n",
      "839  246.0  248.0  247.0  233.0  232.0  249.0  244.0  228.0  233.0  233.0   \n",
      "840  220.0  222.0  221.0  219.0  218.0  223.0  218.0  214.0  219.0  219.0   \n",
      "\n",
      "     ...    828    829    830    831    832    833    834    835    836    837  \n",
      "0    ...  230.0  229.0  230.0  229.0  229.0  224.0  230.0  230.0  230.0  229.0  \n",
      "1    ...  232.0  231.0  232.0  231.0  231.0  226.0  232.0  232.0  232.0  230.0  \n",
      "2    ...  231.0  230.0  231.0  230.0  230.0  227.0  231.0  231.0  231.0  233.0  \n",
      "3    ...  249.0  248.0  249.0  241.0  248.0  242.0  249.0  249.0  249.0  247.0  \n",
      "4    ...  248.0  247.0  248.0  240.0  247.0  241.0  248.0  248.0  248.0  246.0  \n",
      "..   ...    ...    ...    ...    ...    ...    ...    ...    ...    ...    ...  \n",
      "836  ...  249.0  248.0  249.0  241.0  248.0  242.0  249.0  249.0  249.0  247.0  \n",
      "837  ...  247.0  246.0  247.0  239.0  246.0  242.0  247.0  247.0  247.0  249.0  \n",
      "838  ...  249.0  248.0  249.0  241.0  248.0  242.0  249.0  249.0  249.0  247.0  \n",
      "839  ...  233.0  232.0  233.0  232.0  232.0  227.0  233.0  233.0  233.0  231.0  \n",
      "840  ...  219.0  218.0  219.0  218.0  218.0  213.0  219.0  219.0  219.0  217.0  \n",
      "\n",
      "[841 rows x 838 columns]\n"
     ]
    }
   ],
   "source": [
    "for i in range(0, len(sizedReadings)):\n",
    "    df[i][len(sizedReadings)] = aligner.align(expected[0].seq, sizedReadings[i]).score\n",
    "    df[i][len(sizedReadings)+1] = aligner.align(expected[1].seq, sizedReadings[i]).score\n",
    "    df[i][len(sizedReadings)+2] = aligner.align(expected[2].seq, sizedReadings[i]).score\n",
    "\n",
    "print(df)\n",
    "    \n",
    "pca = PCA(n_components=2)\n",
    "principalComponents = pca.fit_transform(df)\n",
    "principalDf = pd.DataFrame(data = principalComponents\n",
    "             , columns = ['PC1', 'PC2'])\n"
   ]
  },
  {
   "cell_type": "code",
   "execution_count": 5,
   "id": "faa96e29",
   "metadata": {},
   "outputs": [
    {
     "data": {
      "image/png": "[encoded data removed]",
      "text/plain": [
       "<Figure size 432x288 with 1 Axes>"
      ]
     },
     "metadata": {
      "needs_background": "light"
     },
     "output_type": "display_data"
    }
   ],
   "source": [
    "K = range(1,20)\n",
    "Sum_of_squared_distance = []\n",
    "for num_clusters in K :\n",
    " kmeans = KMeans(n_clusters=num_clusters)\n",
    " kmeans.fit(principalDf)\n",
    " Sum_of_squared_distance.append(kmeans.inertia_)\n",
    "plt.plot(K,Sum_of_squared_distance,'bx-')\n",
    "plt.xlabel('Values of K') \n",
    "plt.ylabel('Sum of squared distances/Inertia') \n",
    "plt.title('Elbow Method For Optimal k')\n",
    "plt.show()"
   ]
  },
  {
   "cell_type": "code",
   "execution_count": 6,
   "id": "cf847560",
   "metadata": {},
   "outputs": [
    {
     "name": "stdout",
     "output_type": "stream",
     "text": [
      "            PC1        PC2\n",
      "838  -46.401512  -1.413130\n",
      "839  403.760177 -75.635783\n",
      "840  791.401791  98.734190\n",
      "-46.40151170402178 -1.4131302435578776\n",
      "403.7601765508491 -75.63578273020445\n",
      "791.401791283935 98.7341904794007\n"
     ]
    },
    {
     "data": {
      "image/png": "[encoded data removed]",
      "text/plain": [
       "<Figure size 432x288 with 1 Axes>"
      ]
     },
     "metadata": {
      "needs_background": "light"
     },
     "output_type": "display_data"
    }
   ],
   "source": [
    "#Initialize the class object\n",
    "kmeans = KMeans(n_clusters= 3)\n",
    " \n",
    "#predict the labels of clusters.\n",
    "label = kmeans.fit_predict(principalDf)\n",
    "#print(label)\n",
    "\n",
    "#Getting unique labels\n",
    " \n",
    "u_labels = np.unique(label)\n",
    " \n",
    "#plotting the results:\n",
    " \n",
    "for i in u_labels:\n",
    "    plt.scatter(principalComponents[label == i , 0] , principalComponents[label == i , 1] , label = i)\n",
    "\n",
    "\n",
    "df2 = pd.DataFrame(data=principalDf.tail(3))\n",
    "print(df2)\n",
    "for i in range(0,len(df2)):\n",
    "    print(df2.iloc[i]['PC1'], df2.iloc[i]['PC2'])\n",
    "    plt.scatter(df2.iloc[i]['PC1'], df2.iloc[i]['PC2'], color='red')\n",
    "\n",
    "    \n",
    "centers = kmeans.cluster_centers_\n",
    "plt.scatter(centers[:, 0], centers[:, 1], c='black', s=200, alpha=0.5);\n",
    "\n",
    "plt.legend()\n",
    "plt.show()"
   ]
  },
  {
   "cell_type": "code",
   "execution_count": 7,
   "id": "7e66d355",
   "metadata": {},
   "outputs": [
    {
     "name": "stdout",
     "output_type": "stream",
     "text": [
      "Točnost modela je:  0.9557809157852438\n"
     ]
    }
   ],
   "source": [
    "dataframe_min = principalDf.min()\n",
    "dataframe_max = principalDf.max()\n",
    "\n",
    "data_dis_X = math.dist([dataframe_min['PC1']], [dataframe_max['PC1']])\n",
    "data_dis_Y = math.dist([dataframe_min['PC2']], [dataframe_max['PC2']])\n",
    "\n",
    "dis_sum = 0\n",
    "for i in range(0, 3):\n",
    "    for j in range(0, 3):\n",
    "        if(label[len(principalDf)-1-j] == i):\n",
    "            dis_X = math.dist([principalDf.iloc[len(principalDf)-1-j]['PC1']], [kmeans.cluster_centers_[i][0]])\n",
    "            dis_Y = math.dist([principalDf.iloc[len(principalDf)-1-j]['PC2']], [kmeans.cluster_centers_[i][1]])\n",
    "            dis_sum += (dis_X/data_dis_X + dis_Y/data_dis_Y)/6\n",
    "\n",
    "print('Točnost modela je: ', 1-dis_sum)"
   ]
  },
  {
   "cell_type": "markdown",
   "id": "91737f0b",
   "metadata": {},
   "source": [
    "## Izračunavanje za J30 "
   ]
  },
  {
   "cell_type": "code",
   "execution_count": 8,
   "id": "6bbe545e",
   "metadata": {},
   "outputs": [
    {
     "name": "stdout",
     "output_type": "stream",
     "text": [
      "JELEN 5-6 =  31.0 Number of alignments: 3\n",
      "JELEN 6-7 =  35.0 Number of alignments: 1\n",
      "JELEN 5-7 =  23.0 Number of alignments: 1\n"
     ]
    }
   ],
   "source": [
    "notebook_path = os.path.abspath(\"genomeClustering.ipynb\")\n",
    "path = os.path.join(os.path.dirname(notebook_path), \"data/J30B_expected.fasta\")\n",
    "pathFASTQ= os.path.join(os.path.dirname(notebook_path), \"data/fastq/J30_B_CE_IonXpress_006.fastq\")\n",
    "\n",
    "expected = list(SeqIO.parse(path, \"fasta\"))\n",
    "    \n",
    "from Bio import Align\n",
    "aligner = Align.PairwiseAligner()\n",
    "aligner.mode = 'local'\n",
    "\n",
    "aligner.match_score = 1\n",
    "aligner.mismatch_score = 0\n",
    "aligner.open_gap_score = -1\n",
    "aligner.extend_gap_score = 0\n",
    "aligner.target_end_gap_score = 0\n",
    "aligner.query_end_gap_score = 0\n",
    "\n",
    "#print(aligner.query_end_gap_score)\n",
    "\n",
    "\n",
    "expAlign1 = aligner.align(expected[0].seq,expected[1].seq)\n",
    "print(\"JELEN 5-6 = \",249-expAlign1[0].score, \"Number of alignments: %d\" % len(expAlign1))\n",
    "expAlign2 = aligner.align(expected[1].seq,expected[2].seq)\n",
    "print(\"JELEN 6-7 = \",249-expAlign2[0].score, \"Number of alignments: %d\" % len(expAlign2))\n",
    "expAlign3 = aligner.align(expected[0].seq,expected[2].seq)\n",
    "print(\"JELEN 5-7 = \",249-expAlign3[0].score, \"Number of alignments: %d\" % len(expAlign3))\n",
    "\n",
    "data = list(SeqIO.parse(pathFASTQ, \"fastq\"))\n",
    "\n"
   ]
  },
  {
   "cell_type": "code",
   "execution_count": 9,
   "id": "024e5d52",
   "metadata": {},
   "outputs": [
    {
     "name": "stdout",
     "output_type": "stream",
     "text": [
      "       0      1      2      3      4      5      6      7      8      9     \\\n",
      "0     249.0  245.0  213.0  212.0  231.0  217.0  215.0  246.0  244.0  212.0   \n",
      "1     245.0  248.0  214.0  213.0  232.0  218.0  216.0  247.0  242.0  213.0   \n",
      "2     213.0  214.0  248.0  242.0  226.0  208.0  247.0  216.0  213.0  244.0   \n",
      "3     212.0  213.0  242.0  248.0  227.0  205.0  244.0  215.0  211.0  243.0   \n",
      "4     231.0  232.0  226.0  227.0  249.0  211.0  228.0  234.0  229.0  226.0   \n",
      "...     ...    ...    ...    ...    ...    ...    ...    ...    ...    ...   \n",
      "1285  215.0  216.0  247.0  244.0  228.0  210.0  249.0  218.0  214.0  246.0   \n",
      "1286  214.0  215.0  246.0  245.0  227.0  209.0  248.0  217.0  213.0  247.0   \n",
      "1287    0.0    0.0    0.0    0.0    0.0    0.0    0.0    0.0    0.0    0.0   \n",
      "1288    0.0    0.0    0.0    0.0    0.0    0.0    0.0    0.0    0.0    0.0   \n",
      "1289    0.0    0.0    0.0    0.0    0.0    0.0    0.0    0.0    0.0    0.0   \n",
      "\n",
      "      ...   1277   1278   1279   1280   1281   1282   1283   1284   1285  \\\n",
      "0     ...  245.0  214.0  210.0  214.0  246.0  215.0  246.0  215.0  215.0   \n",
      "1     ...  246.0  215.0  208.0  215.0  247.0  216.0  247.0  216.0  216.0   \n",
      "2     ...  215.0  245.0  239.0  246.0  216.0  247.0  216.0  247.0  247.0   \n",
      "3     ...  214.0  242.0  236.0  245.0  215.0  244.0  215.0  244.0  244.0   \n",
      "4     ...  233.0  227.0  220.0  227.0  234.0  228.0  234.0  228.0  228.0   \n",
      "...   ...    ...    ...    ...    ...    ...    ...    ...    ...    ...   \n",
      "1285  ...  217.0  247.0  241.0  248.0  218.0  249.0  218.0  249.0  249.0   \n",
      "1286  ...  216.0  246.0  240.0  249.0  217.0  248.0  217.0  248.0  248.0   \n",
      "1287  ...    0.0    0.0    0.0    0.0    0.0    0.0    0.0    0.0    0.0   \n",
      "1288  ...    0.0    0.0    0.0    0.0    0.0    0.0    0.0    0.0    0.0   \n",
      "1289  ...    0.0    0.0    0.0    0.0    0.0    0.0    0.0    0.0    0.0   \n",
      "\n",
      "       1286  \n",
      "0     214.0  \n",
      "1     215.0  \n",
      "2     246.0  \n",
      "3     245.0  \n",
      "4     227.0  \n",
      "...     ...  \n",
      "1285  248.0  \n",
      "1286  249.0  \n",
      "1287    0.0  \n",
      "1288    0.0  \n",
      "1289    0.0  \n",
      "\n",
      "[1290 rows x 1287 columns]\n"
     ]
    }
   ],
   "source": [
    "sizedReadings = []\n",
    "\n",
    "for dataDistances in data:\n",
    "    if(len(dataDistances.seq)<=296 and len(dataDistances.seq)>290):\n",
    "        sizedReadings.append(dataDistances.seq[27:-20])\n",
    "df = DataFrame(np.zeros((len(sizedReadings)+3, len(sizedReadings))))\n",
    "\n",
    "for i in range(0, len(sizedReadings)):\n",
    "    for j in range(i, len(sizedReadings)):\n",
    "        distance = aligner.align(sizedReadings[i], sizedReadings[j]).score\n",
    "        df[i][j] = distance\n",
    "        df[j][i] = distance\n",
    "print(df)"
   ]
  },
  {
   "cell_type": "code",
   "execution_count": 10,
   "id": "ab1793c1",
   "metadata": {},
   "outputs": [
    {
     "name": "stdout",
     "output_type": "stream",
     "text": [
      "       0      1      2      3      4      5      6      7      8      9     \\\n",
      "0     249.0  245.0  213.0  212.0  231.0  217.0  215.0  246.0  244.0  212.0   \n",
      "1     245.0  248.0  214.0  213.0  232.0  218.0  216.0  247.0  242.0  213.0   \n",
      "2     213.0  214.0  248.0  242.0  226.0  208.0  247.0  216.0  213.0  244.0   \n",
      "3     212.0  213.0  242.0  248.0  227.0  205.0  244.0  215.0  211.0  243.0   \n",
      "4     231.0  232.0  226.0  227.0  249.0  211.0  228.0  234.0  229.0  226.0   \n",
      "...     ...    ...    ...    ...    ...    ...    ...    ...    ...    ...   \n",
      "1285  215.0  216.0  247.0  244.0  228.0  210.0  249.0  218.0  214.0  246.0   \n",
      "1286  214.0  215.0  246.0  245.0  227.0  209.0  248.0  217.0  213.0  247.0   \n",
      "1287  246.0  247.0  216.0  215.0  234.0  220.0  218.0  249.0  244.0  215.0   \n",
      "1288  215.0  216.0  247.0  244.0  228.0  210.0  249.0  218.0  214.0  246.0   \n",
      "1289  223.0  224.0  212.0  209.0  217.0  240.0  214.0  226.0  221.0  211.0   \n",
      "\n",
      "      ...   1277   1278   1279   1280   1281   1282   1283   1284   1285  \\\n",
      "0     ...  245.0  214.0  210.0  214.0  246.0  215.0  246.0  215.0  215.0   \n",
      "1     ...  246.0  215.0  208.0  215.0  247.0  216.0  247.0  216.0  216.0   \n",
      "2     ...  215.0  245.0  239.0  246.0  216.0  247.0  216.0  247.0  247.0   \n",
      "3     ...  214.0  242.0  236.0  245.0  215.0  244.0  215.0  244.0  244.0   \n",
      "4     ...  233.0  227.0  220.0  227.0  234.0  228.0  234.0  228.0  228.0   \n",
      "...   ...    ...    ...    ...    ...    ...    ...    ...    ...    ...   \n",
      "1285  ...  217.0  247.0  241.0  248.0  218.0  249.0  218.0  249.0  249.0   \n",
      "1286  ...  216.0  246.0  240.0  249.0  217.0  248.0  217.0  248.0  248.0   \n",
      "1287  ...  248.0  217.0  210.0  217.0  249.0  218.0  249.0  218.0  218.0   \n",
      "1288  ...  217.0  247.0  241.0  248.0  218.0  249.0  218.0  249.0  249.0   \n",
      "1289  ...  225.0  215.0  207.0  213.0  226.0  214.0  226.0  214.0  214.0   \n",
      "\n",
      "       1286  \n",
      "0     214.0  \n",
      "1     215.0  \n",
      "2     246.0  \n",
      "3     245.0  \n",
      "4     227.0  \n",
      "...     ...  \n",
      "1285  248.0  \n",
      "1286  249.0  \n",
      "1287  217.0  \n",
      "1288  248.0  \n",
      "1289  213.0  \n",
      "\n",
      "[1290 rows x 1287 columns]\n"
     ]
    }
   ],
   "source": [
    "for i in range(0, len(sizedReadings)):\n",
    "    df[i][len(sizedReadings)] = aligner.align(expected[0].seq, sizedReadings[i]).score\n",
    "    df[i][len(sizedReadings)+1] = aligner.align(expected[1].seq, sizedReadings[i]).score\n",
    "    df[i][len(sizedReadings)+2] = aligner.align(expected[2].seq, sizedReadings[i]).score\n",
    "\n",
    "print(df)\n",
    "    \n",
    "pca = PCA(n_components=2)\n",
    "principalComponents = pca.fit_transform(df)\n",
    "principalDf = pd.DataFrame(data = principalComponents\n",
    "             , columns = ['PC1', 'PC2'])\n"
   ]
  },
  {
   "cell_type": "code",
   "execution_count": 11,
   "id": "03661450",
   "metadata": {},
   "outputs": [
    {
     "data": {
      "image/png": "[encoded data removed]",
      "text/plain": [
       "<Figure size 432x288 with 1 Axes>"
      ]
     },
     "metadata": {
      "needs_background": "light"
     },
     "output_type": "display_data"
    }
   ],
   "source": [
    "K = range(1,20)\n",
    "Sum_of_squared_distance = []\n",
    "for num_clusters in K :\n",
    " kmeans = KMeans(n_clusters=num_clusters)\n",
    " kmeans.fit(principalDf)\n",
    " Sum_of_squared_distance.append(kmeans.inertia_)\n",
    "plt.plot(K,Sum_of_squared_distance,'bx-')\n",
    "plt.xlabel('Values of K') \n",
    "plt.ylabel('Sum of squared distances/Inertia') \n",
    "plt.title('Elbow Method For Optimal k')\n",
    "plt.show()"
   ]
  },
  {
   "cell_type": "code",
   "execution_count": 12,
   "id": "f9a31789",
   "metadata": {},
   "outputs": [
    {
     "name": "stdout",
     "output_type": "stream",
     "text": [
      "             PC1         PC2\n",
      "1287 -488.232255  -31.900824\n",
      "1288  607.039097  -43.397546\n",
      "1289  -90.340426  439.523091\n",
      "-488.23225464830153 -31.90082352997592\n",
      "607.0390966010578 -43.397545590359684\n",
      "-90.34042621446821 439.52309055755177\n"
     ]
    },
    {
     "data": {
      "image/png": "[encoded data removed]",
      "text/plain": [
       "<Figure size 432x288 with 1 Axes>"
      ]
     },
     "metadata": {
      "needs_background": "light"
     },
     "output_type": "display_data"
    }
   ],
   "source": [
    "#Initialize the class object\n",
    "kmeans = KMeans(n_clusters= 3)\n",
    " \n",
    "#predict the labels of clusters.\n",
    "label = kmeans.fit_predict(principalDf)\n",
    "#print(label)\n",
    "\n",
    "#Getting unique labels\n",
    " \n",
    "u_labels = np.unique(label)\n",
    " \n",
    "#plotting the results:\n",
    " \n",
    "for i in u_labels:\n",
    "    plt.scatter(principalComponents[label == i , 0] , principalComponents[label == i , 1] , label = i)\n",
    "\n",
    "\n",
    "df2 = pd.DataFrame(data=principalDf.tail(3))\n",
    "print(df2)\n",
    "for i in range(0,len(df2)):\n",
    "    print(df2.iloc[i]['PC1'], df2.iloc[i]['PC2'])\n",
    "    plt.scatter(df2.iloc[i]['PC1'], df2.iloc[i]['PC2'], color='red')\n",
    "\n",
    "    \n",
    "centers = kmeans.cluster_centers_\n",
    "plt.scatter(centers[:, 0], centers[:, 1], c='black', s=200, alpha=0.5);\n",
    "\n",
    "plt.legend()\n",
    "plt.show()"
   ]
  },
  {
   "cell_type": "code",
   "execution_count": 13,
   "id": "f993aa43",
   "metadata": {},
   "outputs": [
    {
     "name": "stdout",
     "output_type": "stream",
     "text": [
      "Točnost modela je:  0.966283548212153\n"
     ]
    }
   ],
   "source": [
    "dataframe_min = principalDf.min()\n",
    "dataframe_max = principalDf.max()\n",
    "\n",
    "data_dis_X = math.dist([dataframe_min['PC1']], [dataframe_max['PC1']])\n",
    "data_dis_Y = math.dist([dataframe_min['PC2']], [dataframe_max['PC2']])\n",
    "\n",
    "dis_sum = 0\n",
    "for i in range(0, 3):\n",
    "    for j in range(0, 3):\n",
    "        if(label[len(principalDf)-1-j] == i):\n",
    "            dis_X = math.dist([principalDf.iloc[len(principalDf)-1-j]['PC1']], [kmeans.cluster_centers_[i][0]])\n",
    "            dis_Y = math.dist([principalDf.iloc[len(principalDf)-1-j]['PC2']], [kmeans.cluster_centers_[i][1]])\n",
    "            dis_sum += (dis_X/data_dis_X + dis_Y/data_dis_Y)/6\n",
    "\n",
    "print('Točnost modela je: ', 1-dis_sum)"
   ]
  }
 ],
 "metadata": {
  "kernelspec": {
   "display_name": "Python 3",
   "language": "python",
   "name": "python3"
  },
  "language_info": {
   "codemirror_mode": {
    "name": "ipython",
    "version": 3
   },
   "file_extension": ".py",
   "mimetype": "text/x-python",
   "name": "python",
   "nbconvert_exporter": "python",
   "pygments_lexer": "ipython3",
   "version": "3.8.8"
  }
 },
 "nbformat": 4,
 "nbformat_minor": 5
}
